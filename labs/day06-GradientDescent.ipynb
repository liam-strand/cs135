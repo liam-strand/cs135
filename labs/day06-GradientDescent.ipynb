{
 "cells": [
  {
   "cell_type": "markdown",
   "metadata": {},
   "source": [
    "# day06: Gradient Descent for Linear Regression\n",
    "\n",
    "# Objectives\n",
    "\n",
    "* Learn how to fit weight parameters of Linear Regression to a simple dataset via gradient descent\n",
    "* Understand impact of step size\n",
    "* Understand impact of initialization\n",
    "\n",
    "\n",
    "# Outline\n",
    "* [Part 1: Loss and Gradient for 1-dim. Linear Regression](#part1)\n",
    "* [Part 2: Gradient Descent Algorithm in a few lines of Python](#part2)\n",
    "* [Part 3: Debugging with Trace Plots](#part3)\n",
    "* [Part 4: Selecting the step size](#part4)\n",
    "* [Part 5: Selecting the initialization](#part5)\n",
    "* [Part 6: Using SciPy's built-in routines](#part6)\n",
    "\n",
    "# Takeaways\n",
    "\n",
    "\n",
    "* Gradient descent is a simple algorithm that can be implemented in a few lines of Python\n",
    "* * Practical issues include selecting step size and initialization\n",
    "* Step size matters a lot\n",
    "* * Need to select carefully for each problem\n",
    "\n",
    "* Initialization of the parameters can matter too!\n",
    "\n",
    "* scipy offers some useful tools for gradient-based optimization\n",
    "* * \"L-BFGS-B\" method is highly recommended if you have your loss and gradient functions available\n"
   ]
  },
  {
   "cell_type": "code",
   "execution_count": null,
   "metadata": {},
   "outputs": [],
   "source": [
    "import numpy as np"
   ]
  },
  {
   "cell_type": "code",
   "execution_count": null,
   "metadata": {},
   "outputs": [],
   "source": [
    "# import plotting libraries\n",
    "import matplotlib\n",
    "import matplotlib.pyplot as plt\n",
    "\n",
    "plt.style.use('seaborn-v0_8') # pretty matplotlib plots\n",
    "\n",
    "import seaborn as sns\n",
    "sns.set('notebook', font_scale=1.25, style='whitegrid')"
   ]
  },
  {
   "cell_type": "markdown",
   "metadata": {},
   "source": [
    "# Create simple dataset:   y = 1.234 * x + noise\n",
    "\n",
    "We will *intentionally* create a toy dataset where we know that a good solution has slope near 1.234.\n",
    "\n",
    "Naturally, the best slope for the finite dataset of N=100 examples we create won't be exactly 1.234 (because of the noise added plus the fact that our dataset size is limited)."
   ]
  },
  {
   "cell_type": "code",
   "execution_count": null,
   "metadata": {},
   "outputs": [],
   "source": [
    "def create_dataset(N=100, slope=1.234, noise_stddev=0.1, random_state=0):\n",
    "    random_state = np.random.RandomState(int(random_state))\n",
    "\n",
    "    # input features\n",
    "    x_N = np.linspace(-2, 2, N)\n",
    "    \n",
    "    # output features\n",
    "    y_N = slope * x_N + random_state.randn(N) * noise_stddev\n",
    "    \n",
    "    return x_N, y_N"
   ]
  },
  {
   "cell_type": "code",
   "execution_count": null,
   "metadata": {},
   "outputs": [],
   "source": [
    "x_N, y_N = create_dataset(N=50, noise_stddev=0.3)"
   ]
  },
  {
   "cell_type": "code",
   "execution_count": null,
   "metadata": {},
   "outputs": [
    {
     "data": {
      "image/png": "[encoded data removed]",
      "text/plain": [
       "<Figure size 500x500 with 1 Axes>"
      ]
     },
     "metadata": {},
     "output_type": "display_data"
    }
   ],
   "source": [
    "fig, ax = plt.subplots(nrows=1, ncols=1, figsize=(5,5))\n",
    "plt.plot(x_N, y_N, 'k.');\n",
    "plt.xlabel('x');\n",
    "plt.ylabel('y');"
   ]
  },
  {
   "cell_type": "markdown",
   "metadata": {},
   "source": [
    "# Part 1: Gradient Descent for 1-dim. Linear Regression"
   ]
  },
  {
   "cell_type": "markdown",
   "metadata": {},
   "source": [
    "## Define model\n",
    "\n",
    "Consider the *simplest* linear regression model. A single weight parameter $w \\in \\mathbb{R}$ representing the slope of the prediction line. No bias/intercept.\n",
    "\n",
    "To make predictions, we just compute the weight multiplied by the input feature\n",
    "$$\n",
    "\\hat{y}(x) = w \\cdot x\n",
    "$$"
   ]
  },
  {
   "cell_type": "markdown",
   "metadata": {},
   "source": [
    "## Define loss function"
   ]
  },
  {
   "cell_type": "markdown",
   "metadata": {},
   "source": [
    "We want to minimize the total *squared error* across all N observed data examples (input features $x_n$, output responses $y_n$)"
   ]
  },
  {
   "cell_type": "markdown",
   "metadata": {},
   "source": [
    "\\begin{align}\n",
    "    \\min_{w \\in \\mathbb{R}} ~~ &J(w)\n",
    "    \\\\\n",
    "    \\text{calc_loss}(w) = J(w) &= \\sum_{n=1}^N (y_n - w x_n)^2\n",
    "\\end{align}"
   ]
  },
  {
   "cell_type": "markdown",
   "metadata": {},
   "source": [
    "### Exercise 1A: Complete the code below\n",
    "\n",
    "You should make it match the math expression above."
   ]
  },
  {
   "cell_type": "code",
   "execution_count": null,
   "metadata": {},
   "outputs": [],
   "source": [
    "def calc_loss(w):\n",
    "    ''' Compute loss for slope-only least-squares linear regression\n",
    "    \n",
    "    Args\n",
    "    ----\n",
    "    w : float\n",
    "        Value of slope parameter\n",
    "\n",
    "    Returns\n",
    "    -------\n",
    "    loss : float\n",
    "        Sum of squared error loss at provided w value\n",
    "    '''\n",
    "    yhat_N = x_N * w\n",
    "    sum_squared_error = 0.0 # todo compute the sum of squared error between y and yhat\n",
    "    return sum_squared_error"
   ]
  },
  {
   "cell_type": "markdown",
   "metadata": {},
   "source": [
    "# Define the gradient function\n",
    "\n",
    "\\begin{align}\n",
    "\\text{calc_grad}(w) = J'(w) &= \\frac{\\partial}{\\partial w} [ \\sum_{n=1}^N (y_n - w x_n)^2] \n",
    "\\\\\n",
    "&= \\sum_{n=1}^N 2 (y_n - w x_n) (-x_n)\n",
    "\\\\\n",
    "&= 2 \\sum_{n=1}^N (w x_n - y_n) (x_n)\n",
    "\\\\\n",
    "&= 2  w \\left( \\sum_{n=1}^N x_n^2 \\right) - 2 \\sum_{n=1}^N y_n x_n\n",
    "\\end{align}"
   ]
  },
  {
   "cell_type": "markdown",
   "metadata": {},
   "source": [
    "Below, we've implemented the gradient calculation in code for you.\n",
    "\n",
    "You don't need to edit this, but look over it and verify you understand it."
   ]
  },
  {
   "cell_type": "code",
   "execution_count": null,
   "metadata": {},
   "outputs": [],
   "source": [
    "def calc_grad(w):\n",
    "    ''' Compute gradient for slope-only least-squares linear regression\n",
    "    \n",
    "    Args\n",
    "    ----\n",
    "    w : float\n",
    "        Value of slope parameter\n",
    "\n",
    "    Returns\n",
    "    -------\n",
    "    g : float\n",
    "        Value of derivative of loss function at provided w value\n",
    "    '''\n",
    "    g = 2.0 * w * np.sum(np.square(x_N)) - 2.0 * np.sum(x_N * y_N)\n",
    "    return g"
   ]
  },
  {
   "cell_type": "markdown",
   "metadata": {},
   "source": [
    "## Plot loss evaluated at each w from -3 to 8\n",
    "\n",
    "We should see a \"bowl\" shape with one *global* minima, because our optimization problem is \"convex\""
   ]
  },
  {
   "cell_type": "code",
   "execution_count": null,
   "metadata": {},
   "outputs": [],
   "source": [
    "w_grid = np.linspace(-3, 8, 300) # create array of 300 values between -3 and 8"
   ]
  },
  {
   "cell_type": "code",
   "execution_count": null,
   "metadata": {},
   "outputs": [
    {
     "data": {
      "image/png": "[encoded data removed]",
      "text/plain": [
       "<Figure size 800x550 with 1 Axes>"
      ]
     },
     "metadata": {},
     "output_type": "display_data"
    }
   ],
   "source": [
    "loss_grid = np.asarray([calc_loss(w) for w in w_grid])\n",
    "plt.plot(w_grid, loss_grid, 'b.-');\n",
    "plt.xlabel('w');\n",
    "plt.ylabel('loss(w)');"
   ]
  },
  {
   "cell_type": "markdown",
   "metadata": {},
   "source": [
    "### Discussion 1b: Visually, at what value of $w$ does the loss function have a minima? Is it near where you would expect (hint: look above for the \"true\" slope value used to generate the data)"
   ]
  },
  {
   "cell_type": "markdown",
   "metadata": {},
   "source": [
    "### Exercise 1c: Write NumPy code to identify which entry in the w_grid array corresponds to the lowest entry in the loss_grid array\n",
    "\n",
    "Hint: use np.argmin"
   ]
  },
  {
   "cell_type": "code",
   "execution_count": null,
   "metadata": {},
   "outputs": [],
   "source": [
    "# TODO write code here"
   ]
  },
  {
   "cell_type": "markdown",
   "metadata": {},
   "source": [
    "## Sanity check: plot gradient evaluated at each w from -3 to 8"
   ]
  },
  {
   "cell_type": "code",
   "execution_count": null,
   "metadata": {},
   "outputs": [
    {
     "data": {
      "image/png": "[encoded data removed]",
      "text/plain": [
       "<Figure size 800x550 with 1 Axes>"
      ]
     },
     "metadata": {},
     "output_type": "display_data"
    }
   ],
   "source": [
    "grad_grid = np.asarray([calc_grad(w) for w in w_grid])\n",
    "plt.plot(w_grid, grad_grid, 'b.-');\n",
    "plt.xlabel('w');\n",
    "plt.ylabel('grad(w)');"
   ]
  },
  {
   "cell_type": "markdown",
   "metadata": {},
   "source": [
    "### Discussion 1d: Visually, at what value of $w$ does the gradient function cross zero? Is it the same place as the location of the minimum in the loss above?"
   ]
  },
  {
   "cell_type": "markdown",
   "metadata": {},
   "source": [
    "TODO interpret the graph above and write your answer here, then discuss with your group"
   ]
  },
  {
   "cell_type": "markdown",
   "metadata": {},
   "source": [
    "### Exercise 1d: Numerically, at which value of w does grad_grid cross zero?"
   ]
  },
  {
   "cell_type": "markdown",
   "metadata": {},
   "source": [
    "We might try to estimate numerically where the gradient crosses zero.\n",
    "\n",
    "We could do this in a few steps:\n",
    "\n",
    "1) Compute the distance from each gradient in `grad_grid` to 0.0 (we could use just absolute distance)\n",
    "\n",
    "2) Find the index of `grad_grid` with smallest distance (using `np.argmin`)\n",
    "\n",
    "3) Plug that index into `w_grid` to get the $w$ value corresponding to that zero-crossing"
   ]
  },
  {
   "cell_type": "code",
   "execution_count": null,
   "metadata": {},
   "outputs": [
    {
     "name": "stdout",
     "output_type": "stream",
     "text": [
      "Zero crossing occurs at w = -3.0000\n"
     ]
    }
   ],
   "source": [
    "dist_from_zero_G = np.abs(grad_grid - 0.0)\n",
    "\n",
    "zero_cross_index = 0 # TODO fix me for step 2 above\n",
    "\n",
    "print(\"Zero crossing occurs at w = %.4f\" % w_grid[0]) # TODO fix me for step 3 above"
   ]
  },
  {
   "cell_type": "markdown",
   "metadata": {},
   "source": [
    "## Part 2: Gradient Descent (GD) as an algorithm in Python\n",
    "\n",
    "\n",
    "### Define minimize_via_grad_descent algorithm\n",
    "\n",
    "Can you understand what each step of this algorithm does?"
   ]
  },
  {
   "cell_type": "code",
   "execution_count": null,
   "metadata": {},
   "outputs": [],
   "source": [
    "def minimize_via_grad_descent(calc_loss, calc_grad, init_w=0.0, step_size=0.001, max_iters=100):\n",
    "    ''' Perform minimization of provided loss function via gradient descent\n",
    "    \n",
    "    Args\n",
    "    ----\n",
    "    calc_loss : function\n",
    "    calc_grad : function\n",
    "    init_w : float\n",
    "    step_size : float\n",
    "    max_iters : positive int\n",
    "    \n",
    "    Return\n",
    "    ----\n",
    "    wopt: float\n",
    "        array of optimized weights that approximately gives the least error\n",
    "    info_dict : dict\n",
    "        Contains information about the optimization procedure useful for debugging\n",
    "        Entries include:\n",
    "        * trace_loss_list : list of loss values\n",
    "        * trace_grad_list : list of gradient values\n",
    "    '''\n",
    "    w = 1.0 * init_w \n",
    "    grad = calc_grad(w)\n",
    "\n",
    "    # Create some lists to track progress over time (for debugging)\n",
    "    trace_loss_list = []\n",
    "    trace_w_list = []\n",
    "    trace_grad_list = []\n",
    "\n",
    "    for iter_id in range(max_iters):\n",
    "        if iter_id > 0:\n",
    "            w = w - step_size * grad\n",
    "        \n",
    "        loss = calc_loss(w)\n",
    "        grad = calc_grad(w)    \n",
    "\n",
    "        print(\"iter %4d/%d | w  % 8.4f | loss % 8.4f | grad % 8.4f\" % (\n",
    "            iter_id, max_iters, w, loss, grad))\n",
    "    \n",
    "        trace_loss_list.append(loss)\n",
    "        trace_w_list.append(w)\n",
    "        trace_grad_list.append(grad)\n",
    "    \n",
    "    wopt = w\n",
    "    info_dict = dict(\n",
    "        trace_loss_list=trace_loss_list,\n",
    "        trace_w_list=trace_w_list, \n",
    "        trace_grad_list=trace_grad_list)\n",
    "    \n",
    "    return wopt, info_dict"
   ]
  },
  {
   "cell_type": "markdown",
   "metadata": {},
   "source": [
    "### Discussion 2a: Which line of the above function does the *parameter update* happen?\n",
    "\n",
    "Remember, in math, the parameter update of gradient descent is this:\n",
    "$$\n",
    "w \\gets w - \\alpha \\nabla_w J(w)\n",
    "$$\n",
    "\n",
    "where $\\alpha > 0$ is the step size.\n",
    "\n",
    "In words, this math says *move* the parameter $w$ from its current value a *small step* in the \"downhill\" direction (indicated by gradient)."
   ]
  },
  {
   "cell_type": "markdown",
   "metadata": {},
   "source": [
    "TODO write down here which line above *you* think it is, then discuss with your group"
   ]
  },
  {
   "cell_type": "code",
   "execution_count": null,
   "metadata": {},
   "outputs": [],
   "source": []
  },
  {
   "cell_type": "markdown",
   "metadata": {},
   "source": [
    "### Try it! Run GD with step_size = 0.001\n",
    "\n",
    "Running the cell below will have the following effects:\n",
    "\n",
    "1) one line will be printed for every iteration, indicating the current w value and its associated loss\n",
    "\n",
    "2) the \"optimal\" value of w will be stored in the variable named `wopt` returned by this function\n",
    "\n",
    "3) a dictionary of information useful for debugging will be stored in the `info_dict` returned by this function"
   ]
  },
  {
   "cell_type": "code",
   "execution_count": null,
   "metadata": {},
   "outputs": [
    {
     "name": "stdout",
     "output_type": "stream",
     "text": [
      "iter    0/100 | w    0.0000 | loss   0.0000 | grad -156.5566\n",
      "iter    1/100 | w    0.1566 | loss   0.0000 | grad -134.8304\n",
      "iter    2/100 | w    0.2914 | loss   0.0000 | grad -116.1192\n",
      "iter    3/100 | w    0.4075 | loss   0.0000 | grad -100.0047\n",
      "iter    4/100 | w    0.5075 | loss   0.0000 | grad -86.1265\n",
      "iter    5/100 | w    0.5936 | loss   0.0000 | grad -74.1743\n",
      "iter    6/100 | w    0.6678 | loss   0.0000 | grad -63.8807\n",
      "iter    7/100 | w    0.7317 | loss   0.0000 | grad -55.0156\n",
      "iter    8/100 | w    0.7867 | loss   0.0000 | grad -47.3808\n",
      "iter    9/100 | w    0.8341 | loss   0.0000 | grad -40.8055\n",
      "iter   10/100 | w    0.8749 | loss   0.0000 | grad -35.1427\n",
      "iter   11/100 | w    0.9100 | loss   0.0000 | grad -30.2657\n",
      "iter   12/100 | w    0.9403 | loss   0.0000 | grad -26.0656\n",
      "iter   13/100 | w    0.9664 | loss   0.0000 | grad -22.4483\n",
      "iter   14/100 | w    0.9888 | loss   0.0000 | grad -19.3331\n",
      "iter   15/100 | w    1.0081 | loss   0.0000 | grad -16.6501\n",
      "iter   16/100 | w    1.0248 | loss   0.0000 | grad -14.3395\n",
      "iter   17/100 | w    1.0391 | loss   0.0000 | grad -12.3495\n",
      "iter   18/100 | w    1.0515 | loss   0.0000 | grad -10.6357\n",
      "iter   19/100 | w    1.0621 | loss   0.0000 | grad  -9.1597\n",
      "iter   20/100 | w    1.0713 | loss   0.0000 | grad  -7.8886\n",
      "iter   21/100 | w    1.0792 | loss   0.0000 | grad  -6.7938\n",
      "iter   22/100 | w    1.0860 | loss   0.0000 | grad  -5.8510\n",
      "iter   23/100 | w    1.0918 | loss   0.0000 | grad  -5.0390\n",
      "iter   24/100 | w    1.0969 | loss   0.0000 | grad  -4.3397\n",
      "iter   25/100 | w    1.1012 | loss   0.0000 | grad  -3.7375\n",
      "iter   26/100 | w    1.1049 | loss   0.0000 | grad  -3.2188\n",
      "iter   27/100 | w    1.1082 | loss   0.0000 | grad  -2.7721\n",
      "iter   28/100 | w    1.1109 | loss   0.0000 | grad  -2.3874\n",
      "iter   29/100 | w    1.1133 | loss   0.0000 | grad  -2.0561\n",
      "iter   30/100 | w    1.1154 | loss   0.0000 | grad  -1.7708\n",
      "iter   31/100 | w    1.1171 | loss   0.0000 | grad  -1.5250\n",
      "iter   32/100 | w    1.1187 | loss   0.0000 | grad  -1.3134\n",
      "iter   33/100 | w    1.1200 | loss   0.0000 | grad  -1.1311\n",
      "iter   34/100 | w    1.1211 | loss   0.0000 | grad  -0.9742\n",
      "iter   35/100 | w    1.1221 | loss   0.0000 | grad  -0.8390\n",
      "iter   36/100 | w    1.1229 | loss   0.0000 | grad  -0.7225\n",
      "iter   37/100 | w    1.1236 | loss   0.0000 | grad  -0.6223\n",
      "iter   38/100 | w    1.1243 | loss   0.0000 | grad  -0.5359\n",
      "iter   39/100 | w    1.1248 | loss   0.0000 | grad  -0.4615\n",
      "iter   40/100 | w    1.1253 | loss   0.0000 | grad  -0.3975\n",
      "iter   41/100 | w    1.1257 | loss   0.0000 | grad  -0.3423\n",
      "iter   42/100 | w    1.1260 | loss   0.0000 | grad  -0.2948\n",
      "iter   43/100 | w    1.1263 | loss   0.0000 | grad  -0.2539\n",
      "iter   44/100 | w    1.1266 | loss   0.0000 | grad  -0.2187\n",
      "iter   45/100 | w    1.1268 | loss   0.0000 | grad  -0.1883\n",
      "iter   46/100 | w    1.1270 | loss   0.0000 | grad  -0.1622\n",
      "iter   47/100 | w    1.1271 | loss   0.0000 | grad  -0.1397\n",
      "iter   48/100 | w    1.1273 | loss   0.0000 | grad  -0.1203\n",
      "iter   49/100 | w    1.1274 | loss   0.0000 | grad  -0.1036\n",
      "iter   50/100 | w    1.1275 | loss   0.0000 | grad  -0.0892\n",
      "iter   51/100 | w    1.1276 | loss   0.0000 | grad  -0.0768\n",
      "iter   52/100 | w    1.1277 | loss   0.0000 | grad  -0.0662\n",
      "iter   53/100 | w    1.1277 | loss   0.0000 | grad  -0.0570\n",
      "iter   54/100 | w    1.1278 | loss   0.0000 | grad  -0.0491\n",
      "iter   55/100 | w    1.1278 | loss   0.0000 | grad  -0.0423\n",
      "iter   56/100 | w    1.1279 | loss   0.0000 | grad  -0.0364\n",
      "iter   57/100 | w    1.1279 | loss   0.0000 | grad  -0.0314\n",
      "iter   58/100 | w    1.1279 | loss   0.0000 | grad  -0.0270\n",
      "iter   59/100 | w    1.1280 | loss   0.0000 | grad  -0.0233\n",
      "iter   60/100 | w    1.1280 | loss   0.0000 | grad  -0.0200\n",
      "iter   61/100 | w    1.1280 | loss   0.0000 | grad  -0.0172\n",
      "iter   62/100 | w    1.1280 | loss   0.0000 | grad  -0.0149\n",
      "iter   63/100 | w    1.1280 | loss   0.0000 | grad  -0.0128\n",
      "iter   64/100 | w    1.1280 | loss   0.0000 | grad  -0.0110\n",
      "iter   65/100 | w    1.1281 | loss   0.0000 | grad  -0.0095\n",
      "iter   66/100 | w    1.1281 | loss   0.0000 | grad  -0.0082\n",
      "iter   67/100 | w    1.1281 | loss   0.0000 | grad  -0.0070\n",
      "iter   68/100 | w    1.1281 | loss   0.0000 | grad  -0.0061\n",
      "iter   69/100 | w    1.1281 | loss   0.0000 | grad  -0.0052\n",
      "iter   70/100 | w    1.1281 | loss   0.0000 | grad  -0.0045\n",
      "iter   71/100 | w    1.1281 | loss   0.0000 | grad  -0.0039\n",
      "iter   72/100 | w    1.1281 | loss   0.0000 | grad  -0.0033\n",
      "iter   73/100 | w    1.1281 | loss   0.0000 | grad  -0.0029\n",
      "iter   74/100 | w    1.1281 | loss   0.0000 | grad  -0.0025\n",
      "iter   75/100 | w    1.1281 | loss   0.0000 | grad  -0.0021\n",
      "iter   76/100 | w    1.1281 | loss   0.0000 | grad  -0.0018\n",
      "iter   77/100 | w    1.1281 | loss   0.0000 | grad  -0.0016\n",
      "iter   78/100 | w    1.1281 | loss   0.0000 | grad  -0.0014\n",
      "iter   79/100 | w    1.1281 | loss   0.0000 | grad  -0.0012\n",
      "iter   80/100 | w    1.1281 | loss   0.0000 | grad  -0.0010\n",
      "iter   81/100 | w    1.1281 | loss   0.0000 | grad  -0.0009\n",
      "iter   82/100 | w    1.1281 | loss   0.0000 | grad  -0.0007\n",
      "iter   83/100 | w    1.1281 | loss   0.0000 | grad  -0.0006\n",
      "iter   84/100 | w    1.1281 | loss   0.0000 | grad  -0.0006\n",
      "iter   85/100 | w    1.1281 | loss   0.0000 | grad  -0.0005\n",
      "iter   86/100 | w    1.1281 | loss   0.0000 | grad  -0.0004\n",
      "iter   87/100 | w    1.1281 | loss   0.0000 | grad  -0.0004\n",
      "iter   88/100 | w    1.1281 | loss   0.0000 | grad  -0.0003\n",
      "iter   89/100 | w    1.1281 | loss   0.0000 | grad  -0.0003\n",
      "iter   90/100 | w    1.1281 | loss   0.0000 | grad  -0.0002\n",
      "iter   91/100 | w    1.1281 | loss   0.0000 | grad  -0.0002\n",
      "iter   92/100 | w    1.1281 | loss   0.0000 | grad  -0.0002\n",
      "iter   93/100 | w    1.1281 | loss   0.0000 | grad  -0.0001\n",
      "iter   94/100 | w    1.1281 | loss   0.0000 | grad  -0.0001\n",
      "iter   95/100 | w    1.1281 | loss   0.0000 | grad  -0.0001\n",
      "iter   96/100 | w    1.1281 | loss   0.0000 | grad  -0.0001\n",
      "iter   97/100 | w    1.1281 | loss   0.0000 | grad  -0.0001\n",
      "iter   98/100 | w    1.1281 | loss   0.0000 | grad  -0.0001\n",
      "iter   99/100 | w    1.1281 | loss   0.0000 | grad  -0.0001\n"
     ]
    }
   ],
   "source": [
    "wopt, info_dict = minimize_via_grad_descent(calc_loss, calc_grad, step_size=0.001);"
   ]
  },
  {
   "cell_type": "markdown",
   "metadata": {},
   "source": [
    "### Discussion 2b: Does it appear from the *loss* values in trace above that the GD procedure converged?"
   ]
  },
  {
   "cell_type": "markdown",
   "metadata": {},
   "source": [
    "### Discussion 2c: Does it appear from the *parameter* values in trace above that the GD procedure converged?"
   ]
  },
  {
   "cell_type": "markdown",
   "metadata": {},
   "source": [
    "### Exercise 2d: What exactly is the gradient of the returned \"optimal\" value of w?\n",
    "\n",
    "Use your `calc_grad` function to check the result. What is the gradient of the returned `wopt`?\n",
    "\n",
    "Does this look totally converged? Can you find a $w$ value that would be even better?"
   ]
  },
  {
   "cell_type": "code",
   "execution_count": null,
   "metadata": {},
   "outputs": [],
   "source": [
    "# TODO call calc_grad on the return value from above"
   ]
  },
  {
   "cell_type": "markdown",
   "metadata": {},
   "source": [
    "## Part 3: Diagnostic plots for gradient descent"
   ]
  },
  {
   "cell_type": "markdown",
   "metadata": {},
   "source": [
    "Let's look at some trace functions.\n",
    "\n",
    "Whenever you run gradient descent, an *excellent* debugging strategy is the ability to plot the loss, the gradient magnitude, and the parameter of interest at every step of the algorithm."
   ]
  },
  {
   "cell_type": "code",
   "execution_count": null,
   "metadata": {},
   "outputs": [
    {
     "data": {
      "image/png": "[encoded data removed]",
      "text/plain": [
       "<Figure size 1800x360 with 3 Axes>"
      ]
     },
     "metadata": {},
     "output_type": "display_data"
    }
   ],
   "source": [
    "fig, axes = plt.subplots(nrows=1, ncols=3, sharex=True, sharey=False, figsize=(18,3.6))\n",
    "\n",
    "axes[0].plot(info_dict['trace_loss_list']);\n",
    "axes[0].set_title('loss');\n",
    "axes[1].plot(info_dict['trace_grad_list']);\n",
    "axes[1].set_title('grad');\n",
    "axes[2].plot(info_dict['trace_w_list']);\n",
    "axes[2].set_title('w');\n",
    "\n",
    "plt.xlim([0, 100]);"
   ]
  },
  {
   "cell_type": "markdown",
   "metadata": {},
   "source": [
    "### Discussion 3a: What value do we expect the *loss* to converge to? Should it always be zero?"
   ]
  },
  {
   "cell_type": "markdown",
   "metadata": {},
   "source": [
    "### Discussion 3b: What value do we expect the *gradient* to converge to? Should it always be zero?"
   ]
  },
  {
   "cell_type": "markdown",
   "metadata": {},
   "source": [
    "# Part 4: Larger step sizes\n",
    "\n",
    "## Try with larger step_size = 0.014"
   ]
  },
  {
   "cell_type": "code",
   "execution_count": null,
   "metadata": {},
   "outputs": [
    {
     "name": "stdout",
     "output_type": "stream",
     "text": [
      "iter    0/100 | w    0.0000 | loss   0.0000 | grad -156.5566\n",
      "iter    1/100 | w    2.1918 | loss   0.0000 | grad  147.6105\n",
      "iter    2/100 | w    0.1252 | loss   0.0000 | grad -139.1756\n",
      "iter    3/100 | w    2.0737 | loss   0.0000 | grad  131.2227\n",
      "iter    4/100 | w    0.2366 | loss   0.0000 | grad -123.7243\n",
      "iter    5/100 | w    1.9687 | loss   0.0000 | grad  116.6543\n",
      "iter    6/100 | w    0.3356 | loss   0.0000 | grad -109.9884\n",
      "iter    7/100 | w    1.8754 | loss   0.0000 | grad  103.7033\n",
      "iter    8/100 | w    0.4236 | loss   0.0000 | grad -97.7774\n",
      "iter    9/100 | w    1.7924 | loss   0.0000 | grad  92.1901\n",
      "iter   10/100 | w    0.5018 | loss   0.0000 | grad -86.9221\n",
      "iter   11/100 | w    1.7187 | loss   0.0000 | grad  81.9551\n",
      "iter   12/100 | w    0.5713 | loss   0.0000 | grad -77.2720\n",
      "iter   13/100 | w    1.6531 | loss   0.0000 | grad  72.8564\n",
      "iter   14/100 | w    0.6331 | loss   0.0000 | grad -68.6932\n",
      "iter   15/100 | w    1.5948 | loss   0.0000 | grad  64.7679\n",
      "iter   16/100 | w    0.6881 | loss   0.0000 | grad -61.0669\n",
      "iter   17/100 | w    1.5430 | loss   0.0000 | grad  57.5773\n",
      "iter   18/100 | w    0.7369 | loss   0.0000 | grad -54.2872\n",
      "iter   19/100 | w    1.4970 | loss   0.0000 | grad  51.1851\n",
      "iter   20/100 | w    0.7804 | loss   0.0000 | grad -48.2602\n",
      "iter   21/100 | w    1.4560 | loss   0.0000 | grad  45.5025\n",
      "iter   22/100 | w    0.8190 | loss   0.0000 | grad -42.9023\n",
      "iter   23/100 | w    1.4196 | loss   0.0000 | grad  40.4508\n",
      "iter   24/100 | w    0.8533 | loss   0.0000 | grad -38.1393\n",
      "iter   25/100 | w    1.3873 | loss   0.0000 | grad  35.9599\n",
      "iter   26/100 | w    0.8838 | loss   0.0000 | grad -33.9051\n",
      "iter   27/100 | w    1.3585 | loss   0.0000 | grad  31.9676\n",
      "iter   28/100 | w    0.9109 | loss   0.0000 | grad -30.1409\n",
      "iter   29/100 | w    1.3329 | loss   0.0000 | grad  28.4186\n",
      "iter   30/100 | w    0.9350 | loss   0.0000 | grad -26.7947\n",
      "iter   31/100 | w    1.3102 | loss   0.0000 | grad  25.2635\n",
      "iter   32/100 | w    0.9565 | loss   0.0000 | grad -23.8199\n",
      "iter   33/100 | w    1.2900 | loss   0.0000 | grad  22.4588\n",
      "iter   34/100 | w    0.9755 | loss   0.0000 | grad -21.1754\n",
      "iter   35/100 | w    1.2720 | loss   0.0000 | grad  19.9654\n",
      "iter   36/100 | w    0.9925 | loss   0.0000 | grad -18.8245\n",
      "iter   37/100 | w    1.2560 | loss   0.0000 | grad  17.7488\n",
      "iter   38/100 | w    1.0075 | loss   0.0000 | grad -16.7346\n",
      "iter   39/100 | w    1.2418 | loss   0.0000 | grad  15.7783\n",
      "iter   40/100 | w    1.0209 | loss   0.0000 | grad -14.8767\n",
      "iter   41/100 | w    1.2292 | loss   0.0000 | grad  14.0266\n",
      "iter   42/100 | w    1.0328 | loss   0.0000 | grad -13.2251\n",
      "iter   43/100 | w    1.2180 | loss   0.0000 | grad  12.4694\n",
      "iter   44/100 | w    1.0434 | loss   0.0000 | grad -11.7568\n",
      "iter   45/100 | w    1.2080 | loss   0.0000 | grad  11.0850\n",
      "iter   46/100 | w    1.0528 | loss   0.0000 | grad -10.4516\n",
      "iter   47/100 | w    1.1991 | loss   0.0000 | grad   9.8544\n",
      "iter   48/100 | w    1.0612 | loss   0.0000 | grad  -9.2913\n",
      "iter   49/100 | w    1.1913 | loss   0.0000 | grad   8.7603\n",
      "iter   50/100 | w    1.0686 | loss   0.0000 | grad  -8.2597\n",
      "iter   51/100 | w    1.1842 | loss   0.0000 | grad   7.7878\n",
      "iter   52/100 | w    1.0752 | loss   0.0000 | grad  -7.3427\n",
      "iter   53/100 | w    1.1780 | loss   0.0000 | grad   6.9232\n",
      "iter   54/100 | w    1.0811 | loss   0.0000 | grad  -6.5275\n",
      "iter   55/100 | w    1.1725 | loss   0.0000 | grad   6.1545\n",
      "iter   56/100 | w    1.0863 | loss   0.0000 | grad  -5.8029\n",
      "iter   57/100 | w    1.1676 | loss   0.0000 | grad   5.4713\n",
      "iter   58/100 | w    1.0910 | loss   0.0000 | grad  -5.1586\n",
      "iter   59/100 | w    1.1632 | loss   0.0000 | grad   4.8638\n",
      "iter   60/100 | w    1.0951 | loss   0.0000 | grad  -4.5859\n",
      "iter   61/100 | w    1.1593 | loss   0.0000 | grad   4.3239\n",
      "iter   62/100 | w    1.0988 | loss   0.0000 | grad  -4.0768\n",
      "iter   63/100 | w    1.1558 | loss   0.0000 | grad   3.8438\n",
      "iter   64/100 | w    1.1020 | loss   0.0000 | grad  -3.6242\n",
      "iter   65/100 | w    1.1528 | loss   0.0000 | grad   3.4171\n",
      "iter   66/100 | w    1.1049 | loss   0.0000 | grad  -3.2218\n",
      "iter   67/100 | w    1.1500 | loss   0.0000 | grad   3.0377\n",
      "iter   68/100 | w    1.1075 | loss   0.0000 | grad  -2.8641\n",
      "iter   69/100 | w    1.1476 | loss   0.0000 | grad   2.7005\n",
      "iter   70/100 | w    1.1098 | loss   0.0000 | grad  -2.5462\n",
      "iter   71/100 | w    1.1454 | loss   0.0000 | grad   2.4007\n",
      "iter   72/100 | w    1.1118 | loss   0.0000 | grad  -2.2635\n",
      "iter   73/100 | w    1.1435 | loss   0.0000 | grad   2.1341\n",
      "iter   74/100 | w    1.1136 | loss   0.0000 | grad  -2.0122\n",
      "iter   75/100 | w    1.1418 | loss   0.0000 | grad   1.8972\n",
      "iter   76/100 | w    1.1152 | loss   0.0000 | grad  -1.7888\n",
      "iter   77/100 | w    1.1403 | loss   0.0000 | grad   1.6866\n",
      "iter   78/100 | w    1.1167 | loss   0.0000 | grad  -1.5902\n",
      "iter   79/100 | w    1.1389 | loss   0.0000 | grad   1.4993\n",
      "iter   80/100 | w    1.1179 | loss   0.0000 | grad  -1.4137\n",
      "iter   81/100 | w    1.1377 | loss   0.0000 | grad   1.3329\n",
      "iter   82/100 | w    1.1191 | loss   0.0000 | grad  -1.2567\n",
      "iter   83/100 | w    1.1367 | loss   0.0000 | grad   1.1849\n",
      "iter   84/100 | w    1.1201 | loss   0.0000 | grad  -1.1172\n",
      "iter   85/100 | w    1.1357 | loss   0.0000 | grad   1.0533\n",
      "iter   86/100 | w    1.1210 | loss   0.0000 | grad  -0.9932\n",
      "iter   87/100 | w    1.1349 | loss   0.0000 | grad   0.9364\n",
      "iter   88/100 | w    1.1218 | loss   0.0000 | grad  -0.8829\n",
      "iter   89/100 | w    1.1341 | loss   0.0000 | grad   0.8324\n",
      "iter   90/100 | w    1.1225 | loss   0.0000 | grad  -0.7849\n",
      "iter   91/100 | w    1.1335 | loss   0.0000 | grad   0.7400\n",
      "iter   92/100 | w    1.1231 | loss   0.0000 | grad  -0.6977\n",
      "iter   93/100 | w    1.1329 | loss   0.0000 | grad   0.6579\n",
      "iter   94/100 | w    1.1237 | loss   0.0000 | grad  -0.6203\n",
      "iter   95/100 | w    1.1323 | loss   0.0000 | grad   0.5848\n",
      "iter   96/100 | w    1.1242 | loss   0.0000 | grad  -0.5514\n",
      "iter   97/100 | w    1.1319 | loss   0.0000 | grad   0.5199\n",
      "iter   98/100 | w    1.1246 | loss   0.0000 | grad  -0.4902\n",
      "iter   99/100 | w    1.1315 | loss   0.0000 | grad   0.4622\n"
     ]
    }
   ],
   "source": [
    "wopt, info_dict = minimize_via_grad_descent(calc_loss, calc_grad, step_size=0.014);"
   ]
  },
  {
   "cell_type": "code",
   "execution_count": null,
   "metadata": {},
   "outputs": [
    {
     "data": {
      "image/png": "[encoded data removed]",
      "text/plain": [
       "<Figure size 1200x300 with 3 Axes>"
      ]
     },
     "metadata": {},
     "output_type": "display_data"
    }
   ],
   "source": [
    "fig, axes = plt.subplots(nrows=1, ncols=3, sharex=True, sharey=False, figsize=(12,3))\n",
    "\n",
    "axes[0].plot(info_dict['trace_loss_list'], '.-');\n",
    "axes[0].set_title('loss');\n",
    "axes[1].plot(info_dict['trace_grad_list'], '.-');\n",
    "axes[1].set_title('grad');\n",
    "axes[2].plot(info_dict['trace_w_list'], '.-');\n",
    "axes[2].set_title('w');"
   ]
  },
  {
   "cell_type": "markdown",
   "metadata": {},
   "source": [
    "### Discussion 4a: What happens here? How is this step size different than in Part 3 above?"
   ]
  },
  {
   "cell_type": "markdown",
   "metadata": {},
   "source": [
    "TODO discuss with your group"
   ]
  },
  {
   "cell_type": "markdown",
   "metadata": {},
   "source": [
    "## Try with even larger step size 0.1"
   ]
  },
  {
   "cell_type": "code",
   "execution_count": null,
   "metadata": {},
   "outputs": [
    {
     "name": "stdout",
     "output_type": "stream",
     "text": [
      "iter    0/25 | w    0.0000 | loss   0.0000 | grad -156.5566\n",
      "iter    1/25 | w   15.6557 | loss   0.0000 | grad  2016.0654\n",
      "iter    2/25 | w  -185.9509 | loss   0.0000 | grad -25961.9847\n",
      "iter    3/25 | w   2410.2476 | loss   0.0000 | grad  334326.7829\n",
      "iter    4/25 | w  -31022.4307 | loss   0.0000 | grad -4305310.2046\n",
      "iter    5/25 | w   399508.5898 | loss   0.0000 | grad  55441851.8184\n",
      "iter    6/25 | w  -5144676.5921 | loss   0.0000 | grad -713955275.4570\n",
      "iter    7/25 | w   66250850.9536 | loss   0.0000 | grad  9193995485.9874\n",
      "iter    8/25 | w  -853148697.6451 | loss   0.0000 | grad -118396145952.2056\n",
      "iter    9/25 | w   10986465897.5754 | loss   0.0000 | grad  1524652410119.2183\n",
      "iter   10/25 | w  -141478775114.3464 | loss   0.0000 | grad -19633789199698.5000\n",
      "iter   11/25 | w   1821900144855.5037 | loss   0.0000 | grad  252835122143056.1250\n",
      "iter   12/25 | w  -23461612069450.1094 | loss   0.0000 | grad -3255897185148334.0000\n",
      "iter   13/25 | w   302128106445383.3125 | loss   0.0000 | grad  41927982118950984.0000\n",
      "iter   14/25 | w  -3890670105449715.0000 | loss   0.0000 | grad -539929728919552256.0000\n",
      "iter   15/25 | w   50102302786505520.0000 | loss   0.0000 | grad  6952972631596682240.0000\n",
      "iter   16/25 | w  -645194960373162752.0000 | loss   0.0000 | grad -89537259806887870464.0000\n",
      "iter   17/25 | w   8308531020315624448.0000 | loss   0.0000 | grad  1153020631390739496960.0000\n",
      "iter   18/25 | w  -106993532118758326272.0000 | loss   0.0000 | grad -14848082008317477519360.0000\n",
      "iter   19/25 | w   1377814668712989425664.0000 | loss   0.0000 | grad  191206933617312775798784.0000\n",
      "iter   20/25 | w  -17742878693018289831936.0000 | loss   0.0000 | grad -2462277043112741494063104.0000\n",
      "iter   21/25 | w   228484825618255890612224.0000 | loss   0.0000 | grad  31708098249064074287513600.0000\n",
      "iter   22/25 | w  -2942324999288151773020160.0000 | loss   0.0000 | grad -408322652962437261462339584.0000\n",
      "iter   23/25 | w   37889940296955572118355968.0000 | loss   0.0000 | grad  5258195796312200821216378880.0000\n",
      "iter   24/25 | w  -487929639334264484233478144.0000 | loss   0.0000 | grad -67712684642306077575404847104.0000\n"
     ]
    }
   ],
   "source": [
    "wopt, info_dict = minimize_via_grad_descent(calc_loss, calc_grad, step_size=0.1, max_iters=25);"
   ]
  },
  {
   "cell_type": "markdown",
   "metadata": {},
   "source": [
    "### Discussion 3b: What happens here with this even larger step size? Is it converging?"
   ]
  },
  {
   "cell_type": "markdown",
   "metadata": {},
   "source": [
    "### Exercise 3c: What is the largest step size you can get to converge reasonably?"
   ]
  },
  {
   "cell_type": "code",
   "execution_count": null,
   "metadata": {},
   "outputs": [
    {
     "name": "stdout",
     "output_type": "stream",
     "text": [
      "iter    0/100 | w    0.0000 | loss   0.0000 | grad -156.5566\n",
      "iter    1/100 | w    0.0000 | loss   0.0000 | grad -156.5566\n",
      "iter    2/100 | w    0.0000 | loss   0.0000 | grad -156.5566\n",
      "iter    3/100 | w    0.0000 | loss   0.0000 | grad -156.5566\n",
      "iter    4/100 | w    0.0000 | loss   0.0000 | grad -156.5566\n",
      "iter    5/100 | w    0.0000 | loss   0.0000 | grad -156.5566\n",
      "iter    6/100 | w    0.0000 | loss   0.0000 | grad -156.5566\n",
      "iter    7/100 | w    0.0000 | loss   0.0000 | grad -156.5566\n",
      "iter    8/100 | w    0.0000 | loss   0.0000 | grad -156.5566\n",
      "iter    9/100 | w    0.0000 | loss   0.0000 | grad -156.5566\n",
      "iter   10/100 | w    0.0000 | loss   0.0000 | grad -156.5566\n",
      "iter   11/100 | w    0.0000 | loss   0.0000 | grad -156.5566\n",
      "iter   12/100 | w    0.0000 | loss   0.0000 | grad -156.5566\n",
      "iter   13/100 | w    0.0000 | loss   0.0000 | grad -156.5566\n",
      "iter   14/100 | w    0.0000 | loss   0.0000 | grad -156.5566\n",
      "iter   15/100 | w    0.0000 | loss   0.0000 | grad -156.5566\n",
      "iter   16/100 | w    0.0000 | loss   0.0000 | grad -156.5566\n",
      "iter   17/100 | w    0.0000 | loss   0.0000 | grad -156.5566\n",
      "iter   18/100 | w    0.0000 | loss   0.0000 | grad -156.5566\n",
      "iter   19/100 | w    0.0000 | loss   0.0000 | grad -156.5566\n",
      "iter   20/100 | w    0.0000 | loss   0.0000 | grad -156.5566\n",
      "iter   21/100 | w    0.0000 | loss   0.0000 | grad -156.5566\n",
      "iter   22/100 | w    0.0000 | loss   0.0000 | grad -156.5566\n",
      "iter   23/100 | w    0.0000 | loss   0.0000 | grad -156.5566\n",
      "iter   24/100 | w    0.0000 | loss   0.0000 | grad -156.5566\n",
      "iter   25/100 | w    0.0000 | loss   0.0000 | grad -156.5566\n",
      "iter   26/100 | w    0.0000 | loss   0.0000 | grad -156.5566\n",
      "iter   27/100 | w    0.0000 | loss   0.0000 | grad -156.5566\n",
      "iter   28/100 | w    0.0000 | loss   0.0000 | grad -156.5566\n",
      "iter   29/100 | w    0.0000 | loss   0.0000 | grad -156.5566\n",
      "iter   30/100 | w    0.0000 | loss   0.0000 | grad -156.5566\n",
      "iter   31/100 | w    0.0000 | loss   0.0000 | grad -156.5566\n",
      "iter   32/100 | w    0.0000 | loss   0.0000 | grad -156.5566\n",
      "iter   33/100 | w    0.0000 | loss   0.0000 | grad -156.5566\n",
      "iter   34/100 | w    0.0000 | loss   0.0000 | grad -156.5566\n",
      "iter   35/100 | w    0.0000 | loss   0.0000 | grad -156.5566\n",
      "iter   36/100 | w    0.0000 | loss   0.0000 | grad -156.5566\n",
      "iter   37/100 | w    0.0000 | loss   0.0000 | grad -156.5566\n",
      "iter   38/100 | w    0.0000 | loss   0.0000 | grad -156.5566\n",
      "iter   39/100 | w    0.0000 | loss   0.0000 | grad -156.5566\n",
      "iter   40/100 | w    0.0000 | loss   0.0000 | grad -156.5566\n",
      "iter   41/100 | w    0.0000 | loss   0.0000 | grad -156.5566\n",
      "iter   42/100 | w    0.0000 | loss   0.0000 | grad -156.5566\n",
      "iter   43/100 | w    0.0000 | loss   0.0000 | grad -156.5566\n",
      "iter   44/100 | w    0.0000 | loss   0.0000 | grad -156.5566\n",
      "iter   45/100 | w    0.0000 | loss   0.0000 | grad -156.5566\n",
      "iter   46/100 | w    0.0000 | loss   0.0000 | grad -156.5566\n",
      "iter   47/100 | w    0.0000 | loss   0.0000 | grad -156.5566\n",
      "iter   48/100 | w    0.0000 | loss   0.0000 | grad -156.5566\n",
      "iter   49/100 | w    0.0000 | loss   0.0000 | grad -156.5566\n",
      "iter   50/100 | w    0.0000 | loss   0.0000 | grad -156.5566\n",
      "iter   51/100 | w    0.0000 | loss   0.0000 | grad -156.5566\n",
      "iter   52/100 | w    0.0000 | loss   0.0000 | grad -156.5566\n",
      "iter   53/100 | w    0.0000 | loss   0.0000 | grad -156.5566\n",
      "iter   54/100 | w    0.0000 | loss   0.0000 | grad -156.5566\n",
      "iter   55/100 | w    0.0000 | loss   0.0000 | grad -156.5566\n",
      "iter   56/100 | w    0.0000 | loss   0.0000 | grad -156.5566\n",
      "iter   57/100 | w    0.0000 | loss   0.0000 | grad -156.5566\n",
      "iter   58/100 | w    0.0000 | loss   0.0000 | grad -156.5566\n",
      "iter   59/100 | w    0.0000 | loss   0.0000 | grad -156.5566\n",
      "iter   60/100 | w    0.0000 | loss   0.0000 | grad -156.5566\n",
      "iter   61/100 | w    0.0000 | loss   0.0000 | grad -156.5566\n",
      "iter   62/100 | w    0.0000 | loss   0.0000 | grad -156.5566\n",
      "iter   63/100 | w    0.0000 | loss   0.0000 | grad -156.5566\n",
      "iter   64/100 | w    0.0000 | loss   0.0000 | grad -156.5566\n",
      "iter   65/100 | w    0.0000 | loss   0.0000 | grad -156.5566\n",
      "iter   66/100 | w    0.0000 | loss   0.0000 | grad -156.5566\n",
      "iter   67/100 | w    0.0000 | loss   0.0000 | grad -156.5566\n",
      "iter   68/100 | w    0.0000 | loss   0.0000 | grad -156.5566\n",
      "iter   69/100 | w    0.0000 | loss   0.0000 | grad -156.5566\n",
      "iter   70/100 | w    0.0000 | loss   0.0000 | grad -156.5566\n",
      "iter   71/100 | w    0.0000 | loss   0.0000 | grad -156.5566\n",
      "iter   72/100 | w    0.0000 | loss   0.0000 | grad -156.5566\n",
      "iter   73/100 | w    0.0000 | loss   0.0000 | grad -156.5566\n",
      "iter   74/100 | w    0.0000 | loss   0.0000 | grad -156.5566\n",
      "iter   75/100 | w    0.0000 | loss   0.0000 | grad -156.5566\n",
      "iter   76/100 | w    0.0000 | loss   0.0000 | grad -156.5566\n",
      "iter   77/100 | w    0.0000 | loss   0.0000 | grad -156.5566\n",
      "iter   78/100 | w    0.0000 | loss   0.0000 | grad -156.5566\n",
      "iter   79/100 | w    0.0000 | loss   0.0000 | grad -156.5566\n",
      "iter   80/100 | w    0.0000 | loss   0.0000 | grad -156.5566\n",
      "iter   81/100 | w    0.0000 | loss   0.0000 | grad -156.5566\n",
      "iter   82/100 | w    0.0000 | loss   0.0000 | grad -156.5566\n",
      "iter   83/100 | w    0.0000 | loss   0.0000 | grad -156.5566\n",
      "iter   84/100 | w    0.0000 | loss   0.0000 | grad -156.5566\n",
      "iter   85/100 | w    0.0000 | loss   0.0000 | grad -156.5566\n",
      "iter   86/100 | w    0.0000 | loss   0.0000 | grad -156.5566\n",
      "iter   87/100 | w    0.0000 | loss   0.0000 | grad -156.5566\n",
      "iter   88/100 | w    0.0000 | loss   0.0000 | grad -156.5566\n",
      "iter   89/100 | w    0.0000 | loss   0.0000 | grad -156.5566\n",
      "iter   90/100 | w    0.0000 | loss   0.0000 | grad -156.5566\n",
      "iter   91/100 | w    0.0000 | loss   0.0000 | grad -156.5566\n",
      "iter   92/100 | w    0.0000 | loss   0.0000 | grad -156.5566\n",
      "iter   93/100 | w    0.0000 | loss   0.0000 | grad -156.5566\n",
      "iter   94/100 | w    0.0000 | loss   0.0000 | grad -156.5566\n",
      "iter   95/100 | w    0.0000 | loss   0.0000 | grad -156.5566\n",
      "iter   96/100 | w    0.0000 | loss   0.0000 | grad -156.5566\n",
      "iter   97/100 | w    0.0000 | loss   0.0000 | grad -156.5566\n",
      "iter   98/100 | w    0.0000 | loss   0.0000 | grad -156.5566\n",
      "iter   99/100 | w    0.0000 | loss   0.0000 | grad -156.5566\n"
     ]
    }
   ],
   "source": [
    "# TODO try some other step sizes here\n",
    "wopt, info_dict = minimize_via_grad_descent(calc_loss, calc_grad, step_size=0) # TODO fix step_size"
   ]
  },
  {
   "cell_type": "markdown",
   "metadata": {},
   "source": [
    "# Part 5: Sensitivity to initial conditions\n",
    "\n"
   ]
  },
  {
   "cell_type": "markdown",
   "metadata": {},
   "source": [
    "### Exercise 5a: Try to call the defined procedure with a different initial condition for $w$. What happens?\n",
    "\n",
    "You could try $w = 5.0$ or something else."
   ]
  },
  {
   "cell_type": "code",
   "execution_count": null,
   "metadata": {},
   "outputs": [
    {
     "name": "stdout",
     "output_type": "stream",
     "text": [
      "iter    0/10 | w    0.0000 | loss   0.0000 | grad -156.5566\n",
      "iter    1/10 | w    0.1566 | loss   0.0000 | grad -134.8304\n",
      "iter    2/10 | w    0.2914 | loss   0.0000 | grad -116.1192\n",
      "iter    3/10 | w    0.4075 | loss   0.0000 | grad -100.0047\n",
      "iter    4/10 | w    0.5075 | loss   0.0000 | grad -86.1265\n",
      "iter    5/10 | w    0.5936 | loss   0.0000 | grad -74.1743\n",
      "iter    6/10 | w    0.6678 | loss   0.0000 | grad -63.8807\n",
      "iter    7/10 | w    0.7317 | loss   0.0000 | grad -55.0156\n",
      "iter    8/10 | w    0.7867 | loss   0.0000 | grad -47.3808\n",
      "iter    9/10 | w    0.8341 | loss   0.0000 | grad -40.8055\n"
     ]
    }
   ],
   "source": [
    "# TODO try some other initial condition for init_w\n",
    "wopt2, info_dict2 = minimize_via_grad_descent(calc_loss, calc_grad, init_w=0, step_size=0.001, max_iters=10) # TODO fix step_size"
   ]
  },
  {
   "cell_type": "markdown",
   "metadata": {},
   "source": [
    "### Exercise 5b: Try again with another initial value. "
   ]
  },
  {
   "cell_type": "code",
   "execution_count": null,
   "metadata": {},
   "outputs": [
    {
     "name": "stdout",
     "output_type": "stream",
     "text": [
      "iter    0/10 | w    0.0000 | loss   0.0000 | grad -156.5566\n",
      "iter    1/10 | w    0.1566 | loss   0.0000 | grad -134.8304\n",
      "iter    2/10 | w    0.2914 | loss   0.0000 | grad -116.1192\n",
      "iter    3/10 | w    0.4075 | loss   0.0000 | grad -100.0047\n",
      "iter    4/10 | w    0.5075 | loss   0.0000 | grad -86.1265\n",
      "iter    5/10 | w    0.5936 | loss   0.0000 | grad -74.1743\n",
      "iter    6/10 | w    0.6678 | loss   0.0000 | grad -63.8807\n",
      "iter    7/10 | w    0.7317 | loss   0.0000 | grad -55.0156\n",
      "iter    8/10 | w    0.7867 | loss   0.0000 | grad -47.3808\n",
      "iter    9/10 | w    0.8341 | loss   0.0000 | grad -40.8055\n"
     ]
    }
   ],
   "source": [
    "# TODO try some other initial condition for init_w\n",
    "wopt3, info_dict3 = minimize_via_grad_descent(calc_loss, calc_grad, init_w=0, step_size=0.001, max_iters=10) # TODO fix"
   ]
  },
  {
   "cell_type": "markdown",
   "metadata": {},
   "source": [
    "### Exercise 5c: Make a trace plot\n",
    "\n",
    "Make a trace plot showing convergence from multiple different starting values for $w$. What do you notice?"
   ]
  },
  {
   "cell_type": "code",
   "execution_count": null,
   "metadata": {},
   "outputs": [],
   "source": [
    "# TODO"
   ]
  },
  {
   "cell_type": "markdown",
   "metadata": {},
   "source": [
    "# Part 6: Using scipy's built-in gradient optimization tools\n"
   ]
  },
  {
   "cell_type": "code",
   "execution_count": null,
   "metadata": {},
   "outputs": [],
   "source": [
    "import scipy.optimize"
   ]
  },
  {
   "cell_type": "markdown",
   "metadata": {},
   "source": [
    "Take a look at SciPy's built in minimization toolbox\n",
    "\n",
    "<https://docs.scipy.org/doc/scipy/reference/generated/scipy.optimize.minimize.html#scipy.optimize.minimize>\n",
    "\n",
    "We'll use \"L-BFGS\", a \"quasi-newton\" method, which you can get an intuition for here:\n",
    "\n",
    "https://en.wikipedia.org/wiki/Newton%27s_method_in_optimization"
   ]
  },
  {
   "cell_type": "code",
   "execution_count": null,
   "metadata": {},
   "outputs": [
    {
     "name": "stdout",
     "output_type": "stream",
     "text": [
      "  message: ABNORMAL_TERMINATION_IN_LNSRCH\n",
      "  success: False\n",
      "   status: 2\n",
      "      fun: 0.0\n",
      "        x: [ 0.000e+00]\n",
      "      nit: 0\n",
      "      jac: [-1.566e+02]\n",
      "     nfev: 21\n",
      "     njev: 21\n",
      " hess_inv: <1x1 LbfgsInvHessProduct with dtype=float64>\n"
     ]
    }
   ],
   "source": [
    "result = scipy.optimize.minimize(calc_loss, 0.0, jac=calc_grad, method='L-BFGS-B')\n",
    "\n",
    "# Returns an object with several fields, let's print the result to get an idea\n",
    "print(result)"
   ]
  },
  {
   "cell_type": "code",
   "execution_count": null,
   "metadata": {},
   "outputs": [
    {
     "name": "stdout",
     "output_type": "stream",
     "text": [
      "ABNORMAL_TERMINATION_IN_LNSRCH\n"
     ]
    }
   ],
   "source": [
    "print(str(result.message))"
   ]
  },
  {
   "cell_type": "code",
   "execution_count": null,
   "metadata": {},
   "outputs": [
    {
     "name": "stdout",
     "output_type": "stream",
     "text": [
      "[0.]\n"
     ]
    }
   ],
   "source": [
    "best_w = result.x\n",
    "print(best_w)"
   ]
  },
  {
   "cell_type": "code",
   "execution_count": null,
   "metadata": {},
   "outputs": [],
   "source": []
  },
  {
   "cell_type": "code",
   "execution_count": null,
   "metadata": {},
   "outputs": [],
   "source": []
  }
 ],
 "metadata": {
  "kernelspec": {
   "display_name": "python3",
   "language": "python",
   "name": "python3"
  }
 },
 "nbformat": 4,
 "nbformat_minor": 2
}
