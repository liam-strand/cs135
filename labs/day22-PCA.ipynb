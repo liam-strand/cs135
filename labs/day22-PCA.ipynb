{
 "cells": [
  {
   "cell_type": "markdown",
   "metadata": {},
   "source": [
    "# CS 135 day22: Principal Components Analysis\n",
    "\n",
    "\n",
    "# Objectives\n",
    "\n",
    "* Understand PCA on both toy and \"real\" image datasets\n",
    "* Get familiar with how to perform transformations to low-dim. embeddings.\n",
    "* Get familiar with how to \"reconstruct\" images\n",
    "\n",
    "# Outline\n",
    "\n",
    "* [Part 1: PCA for toy data with F=2 features](#part1)\n",
    "* [Part 2: PCA with K=10 for image data with many features](#part2)\n",
    "* [Part 3: PCA where we select K for image data with many features](#part3)\n",
    "\n",
    "# Takeaways\n",
    "\n",
    "* Understanding how we add/remove the *mean* vector is important\n",
    "* Understanding that PCA is a nested model\n",
    "* * The component vectors for K=4 are the first four components of K=5, K=6, or K=10 or ...)\n",
    "* Selecting the number of components can be done in several ways:\n",
    "* * Using the fraction of explained variance criteria, as discussed here\n",
    "* * * Can be done very fast by reusing eigenvalues used at training time anyway\n",
    "* * Use an application specific performance metric"
   ]
  },
  {
   "cell_type": "code",
   "execution_count": null,
   "metadata": {},
   "outputs": [],
   "source": [
    "import numpy as np\n",
    "import pandas as pd"
   ]
  },
  {
   "cell_type": "code",
   "execution_count": null,
   "metadata": {},
   "outputs": [],
   "source": [
    "import sklearn.datasets"
   ]
  },
  {
   "cell_type": "code",
   "execution_count": null,
   "metadata": {},
   "outputs": [],
   "source": [
    "import sklearn.decomposition"
   ]
  },
  {
   "cell_type": "code",
   "execution_count": null,
   "metadata": {},
   "outputs": [],
   "source": [
    "# import plotting libraries\n",
    "import matplotlib\n",
    "import matplotlib.pyplot as plt\n",
    "\n",
    "plt.style.use('seaborn-v0_8') # pretty matplotlib plots\n",
    "\n",
    "import seaborn as sns\n",
    "sns.set('notebook', font_scale=1.25, style='whitegrid')"
   ]
  },
  {
   "cell_type": "code",
   "execution_count": null,
   "metadata": {},
   "outputs": [],
   "source": [
    "import matplotlib.colors as mcolors"
   ]
  },
  {
   "cell_type": "code",
   "execution_count": null,
   "metadata": {},
   "outputs": [],
   "source": []
  },
  {
   "cell_type": "markdown",
   "metadata": {},
   "source": [
    "# Setup: Create Small Toy Dataset with F=2\n",
    "\n",
    "We will have N=21 examples, with 2 features $x_1$ and $x_2$"
   ]
  },
  {
   "cell_type": "code",
   "execution_count": null,
   "metadata": {},
   "outputs": [
    {
     "data": {
      "image/png": "[encoded data removed]",
      "text/plain": [
       "<Figure size 800x550 with 1 Axes>"
      ]
     },
     "metadata": {},
     "output_type": "display_data"
    }
   ],
   "source": [
    "random_state = np.random.RandomState(0)\n",
    "\n",
    "# Create N training x values between -5 and 5\n",
    "N = 21\n",
    "F = 2\n",
    "\n",
    "x1_N = np.linspace(-5, 5, N) + random_state.uniform(low=-0.2, high=0.2, size=N)\n",
    "\n",
    "B = 1.5\n",
    "x2_N = 1.0 * x1_N + random_state.uniform(low=-B, high=B, size=N)\n",
    "\n",
    "x_NF = np.zeros((N,F))\n",
    "x_NF[:,0] = x1_N\n",
    "x_NF[:,1] = x2_N\n",
    "\n",
    "# Plot the training data\n",
    "plt.plot(x1_N, x2_N, 'ks')\n",
    "plt.title('Training Data')\n",
    "plt.xlabel('x1');\n",
    "plt.ylabel('x2');\n",
    "plt.gca().set_aspect('equal', 'box')"
   ]
  },
  {
   "cell_type": "markdown",
   "metadata": {},
   "source": [
    "# Review: Math of Principal Components Analysis (PCA)\n",
    "\n",
    "We'll assume feature vectors  $x \\in \\mathbf{R}^F$.\n",
    "\n",
    "We want to find a principal components analysis model with $K$ components, which has parameters:\n",
    "* $m \\in \\mathbb{R}^F$ : mean vector\n",
    "* $W \\in \\mathbb{R}^{F \\times K}$ : weight vectorss for each component\n",
    "\n",
    "This model makes projections to the latent \"codes\" $z_n \\in \\mathbb{R}^K$ like this:\n",
    "$$\n",
    "z_n = \\mathbf{W}^T (\\mathbf{x}_n - \\mathbf{m})\n",
    "$$\n",
    "\n",
    "And then makes reconstructions like this:\n",
    "$$\n",
    "\\hat{x}_n(\\mathbf{m}, \\mathbf{W}) = \\mathbf{W} z_n + \\mathbf{m}\n",
    "$$\n",
    "\n",
    "The training objective is:\n",
    "$$\n",
    "\\min_{\\mathbf{m} \\in \\mathbb{R}^F, \\mathbf{W} \\in \\mathbb{R}^{F\\times K}}\n",
    "\\quad \\sum_{n=1}^N \\sum_{f=1}^F (\\mathbf{x}_{nf} - \\hat{\\mathbf{x}}_{nf}(\\mathbf{m}, \\mathbf{W}) )^2\n",
    "$$\n"
   ]
  },
  {
   "cell_type": "markdown",
   "metadata": {},
   "source": [
    "# Part 1: PCA for F=2 data"
   ]
  },
  {
   "cell_type": "markdown",
   "metadata": {},
   "source": [
    "## Fit a pca model with K=1 component to our data"
   ]
  },
  {
   "cell_type": "code",
   "execution_count": null,
   "metadata": {},
   "outputs": [],
   "source": [
    "pca = sklearn.decomposition.PCA(n_components=1)"
   ]
  },
  {
   "cell_type": "code",
   "execution_count": null,
   "metadata": {},
   "outputs": [
    {
     "data": {
      "text/html": [
       "<style>#sk-container-id-1 {color: black;}#sk-container-id-1 pre{padding: 0;}#sk-container-id-1 div.sk-toggleable {background-color: white;}#sk-container-id-1 label.sk-toggleable__label {cursor: pointer;display: block;width: 100%;margin-bottom: 0;padding: 0.3em;box-sizing: border-box;text-align: center;}#sk-container-id-1 label.sk-toggleable__label-arrow:before {content: \"▸\";float: left;margin-right: 0.25em;color: #696969;}#sk-container-id-1 label.sk-toggleable__label-arrow:hover:before {color: black;}#sk-container-id-1 div.sk-estimator:hover label.sk-toggleable__label-arrow:before {color: black;}#sk-container-id-1 div.sk-toggleable__content {max-height: 0;max-width: 0;overflow: hidden;text-align: left;background-color: #f0f8ff;}#sk-container-id-1 div.sk-toggleable__content pre {margin: 0.2em;color: black;border-radius: 0.25em;background-color: #f0f8ff;}#sk-container-id-1 input.sk-toggleable__control:checked~div.sk-toggleable__content {max-height: 200px;max-width: 100%;overflow: auto;}#sk-container-id-1 input.sk-toggleable__control:checked~label.sk-toggleable__label-arrow:before {content: \"▾\";}#sk-container-id-1 div.sk-estimator input.sk-toggleable__control:checked~label.sk-toggleable__label {background-color: #d4ebff;}#sk-container-id-1 div.sk-label input.sk-toggleable__control:checked~label.sk-toggleable__label {background-color: #d4ebff;}#sk-container-id-1 input.sk-hidden--visually {border: 0;clip: rect(1px 1px 1px 1px);clip: rect(1px, 1px, 1px, 1px);height: 1px;margin: -1px;overflow: hidden;padding: 0;position: absolute;width: 1px;}#sk-container-id-1 div.sk-estimator {font-family: monospace;background-color: #f0f8ff;border: 1px dotted black;border-radius: 0.25em;box-sizing: border-box;margin-bottom: 0.5em;}#sk-container-id-1 div.sk-estimator:hover {background-color: #d4ebff;}#sk-container-id-1 div.sk-parallel-item::after {content: \"\";width: 100%;border-bottom: 1px solid gray;flex-grow: 1;}#sk-container-id-1 div.sk-label:hover label.sk-toggleable__label {background-color: #d4ebff;}#sk-container-id-1 div.sk-serial::before {content: \"\";position: absolute;border-left: 1px solid gray;box-sizing: border-box;top: 0;bottom: 0;left: 50%;z-index: 0;}#sk-container-id-1 div.sk-serial {display: flex;flex-direction: column;align-items: center;background-color: white;padding-right: 0.2em;padding-left: 0.2em;position: relative;}#sk-container-id-1 div.sk-item {position: relative;z-index: 1;}#sk-container-id-1 div.sk-parallel {display: flex;align-items: stretch;justify-content: center;background-color: white;position: relative;}#sk-container-id-1 div.sk-item::before, #sk-container-id-1 div.sk-parallel-item::before {content: \"\";position: absolute;border-left: 1px solid gray;box-sizing: border-box;top: 0;bottom: 0;left: 50%;z-index: -1;}#sk-container-id-1 div.sk-parallel-item {display: flex;flex-direction: column;z-index: 1;position: relative;background-color: white;}#sk-container-id-1 div.sk-parallel-item:first-child::after {align-self: flex-end;width: 50%;}#sk-container-id-1 div.sk-parallel-item:last-child::after {align-self: flex-start;width: 50%;}#sk-container-id-1 div.sk-parallel-item:only-child::after {width: 0;}#sk-container-id-1 div.sk-dashed-wrapped {border: 1px dashed gray;margin: 0 0.4em 0.5em 0.4em;box-sizing: border-box;padding-bottom: 0.4em;background-color: white;}#sk-container-id-1 div.sk-label label {font-family: monospace;font-weight: bold;display: inline-block;line-height: 1.2em;}#sk-container-id-1 div.sk-label-container {text-align: center;}#sk-container-id-1 div.sk-container {/* jupyter's `normalize.less` sets `[hidden] { display: none; }` but bootstrap.min.css set `[hidden] { display: none !important; }` so we also need the `!important` here to be able to override the default hidden behavior on the sphinx rendered scikit-learn.org. See: https://github.com/scikit-learn/scikit-learn/issues/21755 */display: inline-block !important;position: relative;}#sk-container-id-1 div.sk-text-repr-fallback {display: none;}</style><div id=\"sk-container-id-1\" class=\"sk-top-container\"><div class=\"sk-text-repr-fallback\"><pre>PCA(n_components=1)</pre><b>In a Jupyter environment, please rerun this cell to show the HTML representation or trust the notebook. <br />On GitHub, the HTML representation is unable to render, please try loading this page with nbviewer.org.</b></div><div class=\"sk-container\" hidden><div class=\"sk-item\"><div class=\"sk-estimator sk-toggleable\"><input class=\"sk-toggleable__control sk-hidden--visually\" id=\"sk-estimator-id-1\" type=\"checkbox\" checked><label for=\"sk-estimator-id-1\" class=\"sk-toggleable__label sk-toggleable__label-arrow\">PCA</label><div class=\"sk-toggleable__content\"><pre>PCA(n_components=1)</pre></div></div></div></div></div>"
      ],
      "text/plain": [
       "PCA(n_components=1)"
      ]
     },
     "execution_count": null,
     "metadata": {},
     "output_type": "execute_result"
    }
   ],
   "source": [
    "pca.fit(x_NF)"
   ]
  },
  {
   "cell_type": "markdown",
   "metadata": {},
   "source": [
    "This fitting process estimates two parameters, $m$ and $W$, and stores them as attributes of `pca`"
   ]
  },
  {
   "cell_type": "markdown",
   "metadata": {},
   "source": [
    "## Inspecting the learned Mean vector $m$\n",
    "\n",
    "This vector is accessible as the `mean_` attribute"
   ]
  },
  {
   "cell_type": "code",
   "execution_count": null,
   "metadata": {},
   "outputs": [
    {
     "name": "stdout",
     "output_type": "stream",
     "text": [
      "(2,)\n",
      "\n",
      "[0.04018504 0.13658959]\n"
     ]
    }
   ],
   "source": [
    "m_F = pca.mean_\n",
    "print(m_F.shape)\n",
    "print(\"\")\n",
    "print(m_F)"
   ]
  },
  {
   "cell_type": "markdown",
   "metadata": {},
   "source": [
    "## Exercise 1a: Can you convince yourself that this is the same as the training set's empirical mean vector?\n",
    "\n",
    "Compute the mean of each feature (each column) in the training set `x_NF`"
   ]
  },
  {
   "cell_type": "code",
   "execution_count": null,
   "metadata": {},
   "outputs": [],
   "source": [
    "# TODO"
   ]
  },
  {
   "cell_type": "markdown",
   "metadata": {},
   "source": [
    "## Inspecting the learned weights $W$\n",
    "\n",
    "This vector is accessible as the `components_` attribute of our learned `pca` model"
   ]
  },
  {
   "cell_type": "code",
   "execution_count": null,
   "metadata": {},
   "outputs": [
    {
     "name": "stdout",
     "output_type": "stream",
     "text": [
      "(1, 2)\n",
      "\n",
      "[[0.69601341 0.71802879]]\n"
     ]
    }
   ],
   "source": [
    "w_KF = pca.components_\n",
    "print(w_KF.shape)\n",
    "print(\"\")\n",
    "print(w_KF)\n"
   ]
  },
  {
   "cell_type": "markdown",
   "metadata": {},
   "source": [
    "## Exercise 1b: Can you convince yourself that this weight vector is a unit vector?\n",
    "\n",
    "That is, is the sum-of-squares magnitude of each component vector (each row) equal to one?"
   ]
  },
  {
   "cell_type": "code",
   "execution_count": null,
   "metadata": {},
   "outputs": [],
   "source": [
    "# TODO compute sum of squares of each row of w_KF"
   ]
  },
  {
   "cell_type": "markdown",
   "metadata": {},
   "source": [
    "## Calling `transform`: Obtaining the low-dimensional embeddings"
   ]
  },
  {
   "cell_type": "code",
   "execution_count": null,
   "metadata": {},
   "outputs": [],
   "source": [
    "z_NK = pca.transform(x_NF)"
   ]
  },
  {
   "cell_type": "code",
   "execution_count": null,
   "metadata": {},
   "outputs": [
    {
     "name": "stdout",
     "output_type": "stream",
     "text": [
      "(21, 1)\n",
      "\n",
      "[[-6.52423243]\n",
      " [-6.4504965 ]\n",
      " [-5.11980459]\n",
      " [-5.87207543]\n",
      " [-4.10995134]\n",
      " [-4.34687772]\n",
      " [-2.03157546]\n",
      " [-1.97845129]\n",
      " [-1.46165685]\n",
      " [-1.40616067]\n",
      " [ 0.62968306]\n",
      " [ 0.50286399]\n",
      " [ 1.47389739]\n",
      " [ 1.19917502]\n",
      " [ 2.71280757]\n",
      " [ 3.41699812]\n",
      " [ 4.09659534]\n",
      " [ 5.96711016]\n",
      " [ 6.07911096]\n",
      " [ 6.14379828]\n",
      " [ 7.07924238]]\n"
     ]
    }
   ],
   "source": [
    "print(z_NK.shape)\n",
    "print(\"\")\n",
    "print(z_NK)"
   ]
  },
  {
   "cell_type": "markdown",
   "metadata": {},
   "source": [
    "### Compute the reconstructions\n",
    "\n",
    "Each training example (index $n$) can be reconstructed as:\n",
    "\n",
    "$$\n",
    "\\hat{x}_n(\\mathbf{m}, \\mathbf{W}) = \\mathbf{W} z_n + \\mathbf{m}\n",
    "$$\n",
    "\n",
    "If we convert this to matrix-vector arithmetic for the full dataset, we can do:\n",
    "\n",
    "$$\n",
    "\\hat{X} = \\mathbf{Z} \\mathbf{W} + \\mathbf{m}\n",
    "$$\n",
    "\n",
    "where $\\hat{X}$ is an $N \\times F$ matrix, where each row is equal to $\\hat{x}_n(\\mathbf{m}, \\mathbf{W})$"
   ]
  },
  {
   "cell_type": "code",
   "execution_count": null,
   "metadata": {},
   "outputs": [],
   "source": [
    "xhat_NF = np.dot(z_NK, w_KF) + m_F[np.newaxis,:]"
   ]
  },
  {
   "cell_type": "code",
   "execution_count": null,
   "metadata": {},
   "outputs": [
    {
     "name": "stdout",
     "output_type": "stream",
     "text": [
      "(21, 2)\n",
      "\n",
      "First 5 rows of this array\n",
      "[[-4.5007682  -4.54799709]\n",
      " [-4.449447   -4.49505257]\n",
      " [-3.52326759 -3.53957748]\n",
      " [-4.04685818 -4.07972959]\n",
      " [-2.82039619 -2.81447377]]\n"
     ]
    }
   ],
   "source": [
    "print(xhat_NF.shape)\n",
    "print()\n",
    "print(\"First 5 rows of this array\")\n",
    "print(xhat_NF[:5])"
   ]
  },
  {
   "cell_type": "markdown",
   "metadata": {},
   "source": [
    "### Visualize the reconstructions"
   ]
  },
  {
   "cell_type": "code",
   "execution_count": null,
   "metadata": {},
   "outputs": [
    {
     "data": {
      "image/png": "[encoded data removed]",
      "text/plain": [
       "<Figure size 800x550 with 1 Axes>"
      ]
     },
     "metadata": {},
     "output_type": "display_data"
    }
   ],
   "source": [
    "# Plot the training data\n",
    "plt.plot(x1_N, x2_N, 'ks', label='Training Data')\n",
    "\n",
    "# Plot the reconstructed data\n",
    "plt.plot(xhat_NF[:,0], xhat_NF[:,1], 'r.', label='Reconstructed Data', mew=5)\n",
    "\n",
    "# Draw line between training example and reconstruction\n",
    "for n in range(N):\n",
    "    xy_22 = np.zeros((2,2))\n",
    "    xy_22[0] = x_NF[n,:]\n",
    "    xy_22[1] = xhat_NF[n,:]\n",
    "    plt.plot(xy_22[:,0], xy_22[:,1], 'r-')\n",
    "\n",
    "plt.legend(bbox_to_anchor=(1.75, 0.5))\n",
    "plt.xlabel('x1');\n",
    "plt.ylabel('x2');\n",
    "plt.gca().set_aspect('equal', 'box')"
   ]
  },
  {
   "cell_type": "markdown",
   "metadata": {},
   "source": [
    "## Show that we know how to perform the PCA transform ourselves"
   ]
  },
  {
   "cell_type": "code",
   "execution_count": null,
   "metadata": {},
   "outputs": [],
   "source": [
    "def my_transform(x_NF, w_KF, m_F):\n",
    "    ''' Perform transformation to get low-dim embeddings\n",
    "    \n",
    "    Args\n",
    "    ----\n",
    "    x_NF : 2D array, shape (N,F)\n",
    "    w_KF : 2D array, shape (K,F)\n",
    "    m_F : 1D array, shape (F,)\n",
    "    \n",
    "    Returns\n",
    "    -------\n",
    "    z_NK : 2D array, shape (n_examples, n_components) = (N,K)\n",
    "        Each row is a low-dim. \"embedding\" of the corresponding row in x_NF\n",
    "    '''\n",
    "    \n",
    "    # Use the equation defining z in terms of x and m and W\n",
    "    z_NF = np.dot(x_NF - m_F[np.newaxis,:], w_KF.T)\n",
    "    return z_NF"
   ]
  },
  {
   "cell_type": "code",
   "execution_count": null,
   "metadata": {},
   "outputs": [],
   "source": [
    "z_NK = my_transform(x_NF, w_KF, m_F)"
   ]
  },
  {
   "cell_type": "code",
   "execution_count": null,
   "metadata": {},
   "outputs": [
    {
     "name": "stdout",
     "output_type": "stream",
     "text": [
      "Shape of z_NK\n",
      "(21, 1)\n",
      "\n",
      "First 5 rows of z_NK\n",
      "[[-6.52423243]\n",
      " [-6.4504965 ]\n",
      " [-5.11980459]\n",
      " [-5.87207543]\n",
      " [-4.10995134]]\n"
     ]
    }
   ],
   "source": [
    "print(\"Shape of z_NK\")\n",
    "print(z_NK.shape)\n",
    "print()\n",
    "print(\"First 5 rows of z_NK\")\n",
    "print(z_NK[:5])"
   ]
  },
  {
   "cell_type": "markdown",
   "metadata": {},
   "source": [
    "## Discussion 1c: Are these z_NK values from `my_transform` the same as produced by `pca.transform`? \n"
   ]
  },
  {
   "cell_type": "code",
   "execution_count": null,
   "metadata": {},
   "outputs": [],
   "source": [
    "# TODO discuss"
   ]
  },
  {
   "cell_type": "markdown",
   "metadata": {},
   "source": [
    "## Now try with K=2 PCA for our F=2 dataset"
   ]
  },
  {
   "cell_type": "code",
   "execution_count": null,
   "metadata": {},
   "outputs": [
    {
     "data": {
      "text/html": [
       "<style>#sk-container-id-2 {color: black;}#sk-container-id-2 pre{padding: 0;}#sk-container-id-2 div.sk-toggleable {background-color: white;}#sk-container-id-2 label.sk-toggleable__label {cursor: pointer;display: block;width: 100%;margin-bottom: 0;padding: 0.3em;box-sizing: border-box;text-align: center;}#sk-container-id-2 label.sk-toggleable__label-arrow:before {content: \"▸\";float: left;margin-right: 0.25em;color: #696969;}#sk-container-id-2 label.sk-toggleable__label-arrow:hover:before {color: black;}#sk-container-id-2 div.sk-estimator:hover label.sk-toggleable__label-arrow:before {color: black;}#sk-container-id-2 div.sk-toggleable__content {max-height: 0;max-width: 0;overflow: hidden;text-align: left;background-color: #f0f8ff;}#sk-container-id-2 div.sk-toggleable__content pre {margin: 0.2em;color: black;border-radius: 0.25em;background-color: #f0f8ff;}#sk-container-id-2 input.sk-toggleable__control:checked~div.sk-toggleable__content {max-height: 200px;max-width: 100%;overflow: auto;}#sk-container-id-2 input.sk-toggleable__control:checked~label.sk-toggleable__label-arrow:before {content: \"▾\";}#sk-container-id-2 div.sk-estimator input.sk-toggleable__control:checked~label.sk-toggleable__label {background-color: #d4ebff;}#sk-container-id-2 div.sk-label input.sk-toggleable__control:checked~label.sk-toggleable__label {background-color: #d4ebff;}#sk-container-id-2 input.sk-hidden--visually {border: 0;clip: rect(1px 1px 1px 1px);clip: rect(1px, 1px, 1px, 1px);height: 1px;margin: -1px;overflow: hidden;padding: 0;position: absolute;width: 1px;}#sk-container-id-2 div.sk-estimator {font-family: monospace;background-color: #f0f8ff;border: 1px dotted black;border-radius: 0.25em;box-sizing: border-box;margin-bottom: 0.5em;}#sk-container-id-2 div.sk-estimator:hover {background-color: #d4ebff;}#sk-container-id-2 div.sk-parallel-item::after {content: \"\";width: 100%;border-bottom: 1px solid gray;flex-grow: 1;}#sk-container-id-2 div.sk-label:hover label.sk-toggleable__label {background-color: #d4ebff;}#sk-container-id-2 div.sk-serial::before {content: \"\";position: absolute;border-left: 1px solid gray;box-sizing: border-box;top: 0;bottom: 0;left: 50%;z-index: 0;}#sk-container-id-2 div.sk-serial {display: flex;flex-direction: column;align-items: center;background-color: white;padding-right: 0.2em;padding-left: 0.2em;position: relative;}#sk-container-id-2 div.sk-item {position: relative;z-index: 1;}#sk-container-id-2 div.sk-parallel {display: flex;align-items: stretch;justify-content: center;background-color: white;position: relative;}#sk-container-id-2 div.sk-item::before, #sk-container-id-2 div.sk-parallel-item::before {content: \"\";position: absolute;border-left: 1px solid gray;box-sizing: border-box;top: 0;bottom: 0;left: 50%;z-index: -1;}#sk-container-id-2 div.sk-parallel-item {display: flex;flex-direction: column;z-index: 1;position: relative;background-color: white;}#sk-container-id-2 div.sk-parallel-item:first-child::after {align-self: flex-end;width: 50%;}#sk-container-id-2 div.sk-parallel-item:last-child::after {align-self: flex-start;width: 50%;}#sk-container-id-2 div.sk-parallel-item:only-child::after {width: 0;}#sk-container-id-2 div.sk-dashed-wrapped {border: 1px dashed gray;margin: 0 0.4em 0.5em 0.4em;box-sizing: border-box;padding-bottom: 0.4em;background-color: white;}#sk-container-id-2 div.sk-label label {font-family: monospace;font-weight: bold;display: inline-block;line-height: 1.2em;}#sk-container-id-2 div.sk-label-container {text-align: center;}#sk-container-id-2 div.sk-container {/* jupyter's `normalize.less` sets `[hidden] { display: none; }` but bootstrap.min.css set `[hidden] { display: none !important; }` so we also need the `!important` here to be able to override the default hidden behavior on the sphinx rendered scikit-learn.org. See: https://github.com/scikit-learn/scikit-learn/issues/21755 */display: inline-block !important;position: relative;}#sk-container-id-2 div.sk-text-repr-fallback {display: none;}</style><div id=\"sk-container-id-2\" class=\"sk-top-container\"><div class=\"sk-text-repr-fallback\"><pre>PCA(n_components=2)</pre><b>In a Jupyter environment, please rerun this cell to show the HTML representation or trust the notebook. <br />On GitHub, the HTML representation is unable to render, please try loading this page with nbviewer.org.</b></div><div class=\"sk-container\" hidden><div class=\"sk-item\"><div class=\"sk-estimator sk-toggleable\"><input class=\"sk-toggleable__control sk-hidden--visually\" id=\"sk-estimator-id-2\" type=\"checkbox\" checked><label for=\"sk-estimator-id-2\" class=\"sk-toggleable__label sk-toggleable__label-arrow\">PCA</label><div class=\"sk-toggleable__content\"><pre>PCA(n_components=2)</pre></div></div></div></div></div>"
      ],
      "text/plain": [
       "PCA(n_components=2)"
      ]
     },
     "execution_count": null,
     "metadata": {},
     "output_type": "execute_result"
    }
   ],
   "source": [
    "pca = sklearn.decomposition.PCA(n_components=2)\n",
    "pca.fit(x_NF)"
   ]
  },
  {
   "cell_type": "markdown",
   "metadata": {},
   "source": [
    "Print out the transformed embedding features:"
   ]
  },
  {
   "cell_type": "code",
   "execution_count": null,
   "metadata": {},
   "outputs": [
    {
     "data": {
      "text/plain": [
       "array([[-6.52423243, -0.66808798],\n",
       "       [-6.4504965 ,  0.0494726 ],\n",
       "       [-5.11980459, -0.6066986 ],\n",
       "       [-5.87207543,  0.78661395],\n",
       "       [-4.10995134, -0.29266499],\n",
       "       [-4.34687772,  0.75715317],\n",
       "       [-2.03157546, -0.90685279],\n",
       "       [-1.97845129, -0.00897906],\n",
       "       [-1.46165685,  0.22647118],\n",
       "       [-1.40616067,  0.5457974 ],\n",
       "       [ 0.62968306, -0.50382783],\n",
       "       [ 0.50286399,  0.16903618],\n",
       "       [ 1.47389739, -0.05406408],\n",
       "       [ 1.19917502,  1.10777136],\n",
       "       [ 2.71280757, -0.13916024],\n",
       "       [ 3.41699812, -0.11644356],\n",
       "       [ 4.09659534, -0.11612761],\n",
       "       [ 5.96711016, -0.78036674],\n",
       "       [ 6.07911096, -0.22292293],\n",
       "       [ 6.14379828,  0.46189491],\n",
       "       [ 7.07924238,  0.31198566]])"
      ]
     },
     "execution_count": null,
     "metadata": {},
     "output_type": "execute_result"
    }
   ],
   "source": [
    "pca.transform(x_NF)"
   ]
  },
  {
   "cell_type": "markdown",
   "metadata": {},
   "source": [
    "## Discussion 1d: What do you notice about the first column of z here when K=2?\n",
    "\n",
    "How does it compare with the old z?"
   ]
  },
  {
   "cell_type": "code",
   "execution_count": null,
   "metadata": {},
   "outputs": [],
   "source": [
    "# TODO discuss"
   ]
  },
  {
   "cell_type": "markdown",
   "metadata": {},
   "source": [
    "## Exercise 1e: Show the learned weight vectors\n",
    "\n",
    "Print out the learned weight vectors for K=2 and show your self they are \"unit\" vectors."
   ]
  },
  {
   "cell_type": "code",
   "execution_count": null,
   "metadata": {},
   "outputs": [],
   "source": [
    "# TODO access and print weights from the `pca` object"
   ]
  },
  {
   "cell_type": "markdown",
   "metadata": {},
   "source": [
    "## Discussion 1f: How do the learned weight vectors for K=2 compare to the old weights for K=1?\n",
    "\n",
    "What is different? What is the same? Do any vectors point in the same direction?"
   ]
  },
  {
   "cell_type": "code",
   "execution_count": null,
   "metadata": {},
   "outputs": [],
   "source": [
    "# TODO discuss"
   ]
  },
  {
   "cell_type": "markdown",
   "metadata": {},
   "source": [
    "# Part 2: PCA for 8x8 digit images\n",
    "\n",
    "Let us load a dataset of 8x8 pixel images of numerical digits (1, 2, ... 8, 9, 0) that comes from sklearn"
   ]
  },
  {
   "cell_type": "code",
   "execution_count": null,
   "metadata": {},
   "outputs": [],
   "source": [
    "x_all_LF, y_all_L = sklearn.datasets.load_digits(n_class=10, return_X_y=True)\n",
    "x_all_LF = np.asarray(x_all_LF, dtype=np.float64) / 16.0 # Make each pixel intensity between 0 and 1\n",
    "\n",
    "F = 64 # number of features (flattened 8x8 pixel grayscale image)\n",
    "\n",
    "L = 1797 # all examples\n",
    "N = 1697 # train set size\n",
    "T =  100 # test set size\n",
    "\n",
    "shuffled_rows_L = np.random.RandomState(0).permutation(L)\n",
    "train_rows_N = shuffled_rows_L[:N]\n",
    "test_rows_T = shuffled_rows_L[N:]\n",
    "\n",
    "x_tr_NF = x_all_LF[train_rows_N].copy()\n",
    "y_tr_N = y_all_L[train_rows_N].copy()\n",
    "\n",
    "x_te_TF = x_all_LF[test_rows_T].copy()\n",
    "y_te_T = y_all_L[test_rows_T].copy()"
   ]
  },
  {
   "cell_type": "code",
   "execution_count": null,
   "metadata": {},
   "outputs": [
    {
     "data": {
      "text/plain": [
       "(1697, 64)"
      ]
     },
     "execution_count": null,
     "metadata": {},
     "output_type": "execute_result"
    }
   ],
   "source": [
    "x_tr_NF.shape"
   ]
  },
  {
   "cell_type": "code",
   "execution_count": null,
   "metadata": {},
   "outputs": [
    {
     "data": {
      "text/plain": [
       "(100, 64)"
      ]
     },
     "execution_count": null,
     "metadata": {},
     "output_type": "execute_result"
    }
   ],
   "source": [
    "x_te_TF.shape"
   ]
  },
  {
   "cell_type": "markdown",
   "metadata": {},
   "source": [
    "## Show the first image in training set"
   ]
  },
  {
   "cell_type": "code",
   "execution_count": null,
   "metadata": {},
   "outputs": [
    {
     "data": {
      "image/png": "[encoded data removed]",
      "text/plain": [
       "<Figure size 300x300 with 2 Axes>"
      ]
     },
     "metadata": {},
     "output_type": "display_data"
    }
   ],
   "source": [
    "plt.imshow(x_tr_NF[0].reshape((8,8)), interpolation='nearest', vmin=0, vmax=1, cmap='gray')\n",
    "plt.colorbar();\n",
    "plt.gcf().set_size_inches((3,3));"
   ]
  },
  {
   "cell_type": "markdown",
   "metadata": {},
   "source": [
    "## Show fifth row image in training set"
   ]
  },
  {
   "cell_type": "code",
   "execution_count": null,
   "metadata": {},
   "outputs": [
    {
     "data": {
      "image/png": "[encoded data removed]",
      "text/plain": [
       "<Figure size 300x300 with 2 Axes>"
      ]
     },
     "metadata": {},
     "output_type": "display_data"
    }
   ],
   "source": [
    "plt.imshow(x_tr_NF[4].reshape((8,8)), interpolation='nearest', vmin=0, vmax=1, cmap='gray')\n",
    "plt.colorbar();\n",
    "plt.gcf().set_size_inches((3,3));"
   ]
  },
  {
   "cell_type": "markdown",
   "metadata": {},
   "source": [
    "# Fit PCA with 10 components to this image dataset\n",
    "\n",
    "We'll fit this to the entire training set."
   ]
  },
  {
   "cell_type": "code",
   "execution_count": null,
   "metadata": {},
   "outputs": [],
   "source": [
    "K = 10"
   ]
  },
  {
   "cell_type": "code",
   "execution_count": null,
   "metadata": {},
   "outputs": [],
   "source": [
    "digit_pca = sklearn.decomposition.PCA(n_components=K)"
   ]
  },
  {
   "cell_type": "code",
   "execution_count": null,
   "metadata": {},
   "outputs": [
    {
     "data": {
      "text/html": [
       "<style>#sk-container-id-3 {color: black;}#sk-container-id-3 pre{padding: 0;}#sk-container-id-3 div.sk-toggleable {background-color: white;}#sk-container-id-3 label.sk-toggleable__label {cursor: pointer;display: block;width: 100%;margin-bottom: 0;padding: 0.3em;box-sizing: border-box;text-align: center;}#sk-container-id-3 label.sk-toggleable__label-arrow:before {content: \"▸\";float: left;margin-right: 0.25em;color: #696969;}#sk-container-id-3 label.sk-toggleable__label-arrow:hover:before {color: black;}#sk-container-id-3 div.sk-estimator:hover label.sk-toggleable__label-arrow:before {color: black;}#sk-container-id-3 div.sk-toggleable__content {max-height: 0;max-width: 0;overflow: hidden;text-align: left;background-color: #f0f8ff;}#sk-container-id-3 div.sk-toggleable__content pre {margin: 0.2em;color: black;border-radius: 0.25em;background-color: #f0f8ff;}#sk-container-id-3 input.sk-toggleable__control:checked~div.sk-toggleable__content {max-height: 200px;max-width: 100%;overflow: auto;}#sk-container-id-3 input.sk-toggleable__control:checked~label.sk-toggleable__label-arrow:before {content: \"▾\";}#sk-container-id-3 div.sk-estimator input.sk-toggleable__control:checked~label.sk-toggleable__label {background-color: #d4ebff;}#sk-container-id-3 div.sk-label input.sk-toggleable__control:checked~label.sk-toggleable__label {background-color: #d4ebff;}#sk-container-id-3 input.sk-hidden--visually {border: 0;clip: rect(1px 1px 1px 1px);clip: rect(1px, 1px, 1px, 1px);height: 1px;margin: -1px;overflow: hidden;padding: 0;position: absolute;width: 1px;}#sk-container-id-3 div.sk-estimator {font-family: monospace;background-color: #f0f8ff;border: 1px dotted black;border-radius: 0.25em;box-sizing: border-box;margin-bottom: 0.5em;}#sk-container-id-3 div.sk-estimator:hover {background-color: #d4ebff;}#sk-container-id-3 div.sk-parallel-item::after {content: \"\";width: 100%;border-bottom: 1px solid gray;flex-grow: 1;}#sk-container-id-3 div.sk-label:hover label.sk-toggleable__label {background-color: #d4ebff;}#sk-container-id-3 div.sk-serial::before {content: \"\";position: absolute;border-left: 1px solid gray;box-sizing: border-box;top: 0;bottom: 0;left: 50%;z-index: 0;}#sk-container-id-3 div.sk-serial {display: flex;flex-direction: column;align-items: center;background-color: white;padding-right: 0.2em;padding-left: 0.2em;position: relative;}#sk-container-id-3 div.sk-item {position: relative;z-index: 1;}#sk-container-id-3 div.sk-parallel {display: flex;align-items: stretch;justify-content: center;background-color: white;position: relative;}#sk-container-id-3 div.sk-item::before, #sk-container-id-3 div.sk-parallel-item::before {content: \"\";position: absolute;border-left: 1px solid gray;box-sizing: border-box;top: 0;bottom: 0;left: 50%;z-index: -1;}#sk-container-id-3 div.sk-parallel-item {display: flex;flex-direction: column;z-index: 1;position: relative;background-color: white;}#sk-container-id-3 div.sk-parallel-item:first-child::after {align-self: flex-end;width: 50%;}#sk-container-id-3 div.sk-parallel-item:last-child::after {align-self: flex-start;width: 50%;}#sk-container-id-3 div.sk-parallel-item:only-child::after {width: 0;}#sk-container-id-3 div.sk-dashed-wrapped {border: 1px dashed gray;margin: 0 0.4em 0.5em 0.4em;box-sizing: border-box;padding-bottom: 0.4em;background-color: white;}#sk-container-id-3 div.sk-label label {font-family: monospace;font-weight: bold;display: inline-block;line-height: 1.2em;}#sk-container-id-3 div.sk-label-container {text-align: center;}#sk-container-id-3 div.sk-container {/* jupyter's `normalize.less` sets `[hidden] { display: none; }` but bootstrap.min.css set `[hidden] { display: none !important; }` so we also need the `!important` here to be able to override the default hidden behavior on the sphinx rendered scikit-learn.org. See: https://github.com/scikit-learn/scikit-learn/issues/21755 */display: inline-block !important;position: relative;}#sk-container-id-3 div.sk-text-repr-fallback {display: none;}</style><div id=\"sk-container-id-3\" class=\"sk-top-container\"><div class=\"sk-text-repr-fallback\"><pre>PCA(n_components=10)</pre><b>In a Jupyter environment, please rerun this cell to show the HTML representation or trust the notebook. <br />On GitHub, the HTML representation is unable to render, please try loading this page with nbviewer.org.</b></div><div class=\"sk-container\" hidden><div class=\"sk-item\"><div class=\"sk-estimator sk-toggleable\"><input class=\"sk-toggleable__control sk-hidden--visually\" id=\"sk-estimator-id-3\" type=\"checkbox\" checked><label for=\"sk-estimator-id-3\" class=\"sk-toggleable__label sk-toggleable__label-arrow\">PCA</label><div class=\"sk-toggleable__content\"><pre>PCA(n_components=10)</pre></div></div></div></div></div>"
      ],
      "text/plain": [
       "PCA(n_components=10)"
      ]
     },
     "execution_count": null,
     "metadata": {},
     "output_type": "execute_result"
    }
   ],
   "source": [
    "digit_pca.fit(x_tr_NF)"
   ]
  },
  {
   "cell_type": "markdown",
   "metadata": {},
   "source": [
    "Unpack the mean parameter"
   ]
  },
  {
   "cell_type": "code",
   "execution_count": null,
   "metadata": {},
   "outputs": [],
   "source": [
    "m_F = digit_pca.mean_"
   ]
  },
  {
   "cell_type": "markdown",
   "metadata": {},
   "source": [
    "Unpack the weights (K x F matrix)"
   ]
  },
  {
   "cell_type": "code",
   "execution_count": null,
   "metadata": {},
   "outputs": [],
   "source": [
    "w_KF = digit_pca.components_"
   ]
  },
  {
   "cell_type": "code",
   "execution_count": null,
   "metadata": {},
   "outputs": [
    {
     "data": {
      "text/plain": [
       "(10, 64)"
      ]
     },
     "execution_count": null,
     "metadata": {},
     "output_type": "execute_result"
    }
   ],
   "source": [
    "w_KF.shape"
   ]
  },
  {
   "cell_type": "markdown",
   "metadata": {},
   "source": [
    "## Show the mean image"
   ]
  },
  {
   "cell_type": "code",
   "execution_count": null,
   "metadata": {},
   "outputs": [
    {
     "data": {
      "image/png": "[encoded data removed]",
      "text/plain": [
       "<Figure size 300x300 with 2 Axes>"
      ]
     },
     "metadata": {},
     "output_type": "display_data"
    }
   ],
   "source": [
    "plt.imshow(m_F.reshape((8,8)), interpolation='nearest', vmin=0, vmax=1, cmap='gray')\n",
    "plt.colorbar();\n",
    "plt.gcf().set_size_inches((3,3));"
   ]
  },
  {
   "cell_type": "markdown",
   "metadata": {},
   "source": [
    "## Show the weight vectors for the first 10 components (each one reshaped as an image)"
   ]
  },
  {
   "cell_type": "code",
   "execution_count": null,
   "metadata": {},
   "outputs": [
    {
     "data": {
      "image/png": "[encoded data removed]",
      "text/plain": [
       "<Figure size 700x280 with 11 Axes>"
      ]
     },
     "metadata": {},
     "output_type": "display_data"
    }
   ],
   "source": [
    "W = 1.4\n",
    "H = 1.4\n",
    "K = 10\n",
    "fig, axgrid = plt.subplots(nrows=2, ncols=5, figsize=(5*W, 2*H))\n",
    "for k in range(10):\n",
    "    cur_ax = axgrid.flatten()[k]\n",
    "    im_handle = cur_ax.imshow(w_KF[k].reshape((8,8)), interpolation='nearest', vmin=-.5, vmax=.5, cmap='RdBu_r')\n",
    "    cur_ax.set_xticks([]);\n",
    "    cur_ax.set_yticks([]);\n",
    "    cur_ax.set_title(\"Comp k=%d\" % (k+1))\n",
    "    if k == K - 1:\n",
    "        plt.colorbar(im_handle, fraction=0.06, shrink=0.95);"
   ]
  },
  {
   "cell_type": "markdown",
   "metadata": {},
   "source": [
    "## Discussion 2a: Are these interpretable? Do you see evidence of the \"digits\" here?\n",
    "\n",
    "Look for evidence of strong vertical lines, or certain holes, etc. What are these components capturing?"
   ]
  },
  {
   "cell_type": "code",
   "execution_count": null,
   "metadata": {},
   "outputs": [],
   "source": [
    "# TODO discuss"
   ]
  },
  {
   "cell_type": "markdown",
   "metadata": {},
   "source": [
    "## Create reconstructed images"
   ]
  },
  {
   "cell_type": "code",
   "execution_count": null,
   "metadata": {},
   "outputs": [
    {
     "data": {
      "text/plain": [
       "(1697, 64)"
      ]
     },
     "execution_count": null,
     "metadata": {},
     "output_type": "execute_result"
    }
   ],
   "source": [
    "x_tr_NF.shape"
   ]
  },
  {
   "cell_type": "code",
   "execution_count": null,
   "metadata": {},
   "outputs": [],
   "source": [
    "z_tr_NK = my_transform(x_tr_NF, w_KF, m_F)"
   ]
  },
  {
   "cell_type": "code",
   "execution_count": null,
   "metadata": {},
   "outputs": [
    {
     "data": {
      "text/plain": [
       "(1697, 10)"
      ]
     },
     "execution_count": null,
     "metadata": {},
     "output_type": "execute_result"
    }
   ],
   "source": [
    "z_tr_NK.shape"
   ]
  },
  {
   "cell_type": "code",
   "execution_count": null,
   "metadata": {},
   "outputs": [],
   "source": [
    "xhat_tr_NF = np.dot(z_tr_NK, w_KF) + m_F[np.newaxis,:]"
   ]
  },
  {
   "cell_type": "code",
   "execution_count": null,
   "metadata": {},
   "outputs": [
    {
     "data": {
      "text/plain": [
       "(1697, 64)"
      ]
     },
     "execution_count": null,
     "metadata": {},
     "output_type": "execute_result"
    }
   ],
   "source": [
    "xhat_tr_NF.shape"
   ]
  },
  {
   "cell_type": "markdown",
   "metadata": {},
   "source": [
    "## Show the original and reconstructed images from training set\n",
    "\n",
    "We'll look at *first five* training examples."
   ]
  },
  {
   "cell_type": "code",
   "execution_count": null,
   "metadata": {},
   "outputs": [
    {
     "data": {
      "image/png": "[encoded data removed]",
      "text/plain": [
       "<Figure size 700x280 with 11 Axes>"
      ]
     },
     "metadata": {},
     "output_type": "display_data"
    }
   ],
   "source": [
    "row_ids = [0, 1, 2, 3, 4]\n",
    "\n",
    "W = 1.4\n",
    "H = 1.4\n",
    "fig, axgrid = plt.subplots(nrows=2, ncols=len(row_ids), figsize=(5*W, 2*H))\n",
    "\n",
    "# Top row: original images (rows of x_tr_NF)\n",
    "for col_id, row_id in enumerate(row_ids):\n",
    "    cur_ax = axgrid.flatten()[col_id]\n",
    "    im_handle = cur_ax.imshow(x_tr_NF[row_id].reshape((8,8)),\n",
    "                              interpolation='nearest', vmin=0.0, vmax=1.0, cmap='gray')\n",
    "    if col_id == 0:\n",
    "        cur_ax.set_ylabel(\"Original\\n Img\")\n",
    "    cur_ax.set_title(\"Img. %d\" % (row_id))\n",
    "    cur_ax.set_xticks([]);\n",
    "    cur_ax.set_yticks([]);\n",
    "\n",
    "\n",
    "\n",
    "# Bottom row: reconstructed images (rows of xhat_tr_NF)\n",
    "\n",
    "for col_id, row_id in enumerate(row_ids):\n",
    "    cur_ax = axgrid[1].flatten()[col_id]\n",
    "    im_handle = cur_ax.imshow(xhat_tr_NF[row_id].reshape((8,8)),\n",
    "                              interpolation='nearest', vmin=0.0, vmax=1.0, cmap='gray')\n",
    "    if col_id == 0:\n",
    "        cur_ax.set_ylabel(\"Reconstr.\\n K=10\")\n",
    "    cur_ax.set_xticks([]);\n",
    "    cur_ax.set_yticks([]);\n",
    "plt.colorbar(im_handle, fraction=0.05);\n",
    "plt.tight_layout()\n",
    "\n"
   ]
  },
  {
   "cell_type": "markdown",
   "metadata": {},
   "source": [
    "## Show more original and reconstructed images from training set: All 9s\n",
    "\n",
    "We'll look at *five other* training examples, selected because they are all 9s"
   ]
  },
  {
   "cell_type": "code",
   "execution_count": null,
   "metadata": {},
   "outputs": [
    {
     "data": {
      "image/png": "[encoded data removed]",
      "text/plain": [
       "<Figure size 700x280 with 11 Axes>"
      ]
     },
     "metadata": {},
     "output_type": "display_data"
    }
   ],
   "source": [
    "row_ids = np.hstack(np.flatnonzero(y_tr_N== 9)[-5:])\n",
    "W = 1.4\n",
    "H = 1.4\n",
    "fig, axgrid = plt.subplots(nrows=2, ncols=len(row_ids), figsize=(5*W, 2*H))\n",
    "\n",
    "# Top row: original images (rows of x_tr_NF)\n",
    "for col_id, row_id in enumerate(row_ids):\n",
    "    cur_ax = axgrid.flatten()[col_id]\n",
    "    if col_id == 0:\n",
    "        cur_ax.set_ylabel(\"Original\\n Img\")\n",
    "    cur_ax.set_title(\"Img %d\" % (row_id))\n",
    "    im_handle = cur_ax.imshow(x_tr_NF[row_id].reshape((8,8)),\n",
    "                              interpolation='nearest', vmin=0.0, vmax=1.0, cmap='gray')\n",
    "    cur_ax.set_xticks([]);\n",
    "    cur_ax.set_yticks([]);\n",
    "\n",
    "\n",
    "\n",
    "# Bottom row: reconstructed images (rows of xhat_tr_NF)\n",
    "\n",
    "for col_id, row_id in enumerate(row_ids):\n",
    "    cur_ax = axgrid[1].flatten()[col_id]\n",
    "    if col_id == 0:\n",
    "        cur_ax.set_ylabel(\"Reconstr.\\n K=10\")\n",
    "    im_handle = cur_ax.imshow(xhat_tr_NF[row_id].reshape((8,8)),\n",
    "                              interpolation='nearest', vmin=0.0, vmax=1.0, cmap='gray')\n",
    "    cur_ax.set_xticks([]);\n",
    "    cur_ax.set_yticks([]);\n",
    "plt.colorbar(im_handle, fraction=0.05);\n",
    "plt.tight_layout()\n",
    "\n"
   ]
  },
  {
   "cell_type": "markdown",
   "metadata": {},
   "source": [
    "## Discussion 2b: How good are these reconstructions?\n",
    "\n",
    "Across the two plots above, what do you notice?\n",
    "\n",
    "Remember that we are storing only 10 values for each image, not 64, which is a 6x savings!\n",
    "\n",
    "Given that, do you think the reconstructions are pretty good? What visual aspects aren't covered very well?"
   ]
  },
  {
   "cell_type": "markdown",
   "metadata": {},
   "source": [
    "## Exercise 2c: Show reconstructions for the first five *test* examples\n"
   ]
  },
  {
   "cell_type": "markdown",
   "metadata": {},
   "source": [
    "Step 1: Compute the low-dimensional embedding for the test set x_te_TF"
   ]
  },
  {
   "cell_type": "code",
   "execution_count": null,
   "metadata": {},
   "outputs": [],
   "source": [
    "z_te_TK = None # TODO transform x_te_TF to obtain z_te_TK by calling pca.transform"
   ]
  },
  {
   "cell_type": "code",
   "execution_count": null,
   "metadata": {},
   "outputs": [],
   "source": [
    "xhat_te_TF = np.zeros((T,F)) # TODO reconstruct the data by multiplying weights times z, plus adding the mean"
   ]
  },
  {
   "cell_type": "code",
   "execution_count": null,
   "metadata": {},
   "outputs": [
    {
     "data": {
      "image/png": "[encoded data removed]",
      "text/plain": [
       "<Figure size 700x280 with 11 Axes>"
      ]
     },
     "metadata": {},
     "output_type": "display_data"
    }
   ],
   "source": [
    "row_ids = [0, 1, 2, 3, 4] # row ids for our test set\n",
    "W = 1.4\n",
    "H = 1.4\n",
    "fig, axgrid = plt.subplots(nrows=2, ncols=len(row_ids), figsize=(5*W, 2*H))\n",
    "\n",
    "# Top row: original images (rows of x_tr_NF)\n",
    "for col_id, row_id in enumerate(row_ids):\n",
    "    cur_ax = axgrid.flatten()[col_id]\n",
    "    if col_id == 0:\n",
    "        cur_ax.set_ylabel(\"Original\\nImg\")\n",
    "    cur_ax.set_title(\"Img %d\" % (row_id))\n",
    "    im_handle = cur_ax.imshow(x_te_TF[row_id].reshape((8,8)),\n",
    "                              interpolation='nearest', vmin=0.0, vmax=1.0, cmap='gray')\n",
    "    cur_ax.set_xticks([]);\n",
    "    cur_ax.set_yticks([]);\n",
    "\n",
    "\n",
    "\n",
    "# Bottom row: reconstructed images (rows of xhat_tr_NF)\n",
    "for col_id, row_id in enumerate(row_ids):\n",
    "    cur_ax = axgrid[1].flatten()[col_id]\n",
    "    if col_id == 0:\n",
    "        cur_ax.set_ylabel(\"Reconstr.\\n K=10\")\n",
    "    im_handle = cur_ax.imshow(xhat_te_TF[row_id].reshape((8,8)),\n",
    "                              interpolation='nearest', vmin=0.0, vmax=1.0, cmap='gray')\n",
    "    cur_ax.set_xticks([]);\n",
    "    cur_ax.set_yticks([]);\n",
    "plt.colorbar(im_handle, fraction=0.05);\n",
    "plt.tight_layout()\n",
    "\n"
   ]
  },
  {
   "cell_type": "markdown",
   "metadata": {},
   "source": [
    "## Discussion 2d: Is the PCA model good at reconstructing the test examples it has never seen before?\n",
    "\n",
    "Why or why not? Do you notice any differences compared to the training data?"
   ]
  },
  {
   "cell_type": "markdown",
   "metadata": {},
   "source": [
    "# Part 3: PCA with ALL components and selecting K"
   ]
  },
  {
   "cell_type": "markdown",
   "metadata": {},
   "source": [
    "## First, fit PCA that learns all possible components\n",
    "\n",
    "Remember that in general, PCA is a *nested* model.\n",
    "\n",
    "The weights for K=5 are just the first 5 rows of the weights for K=6.\n",
    "\n",
    "The weights for K=9 are just the first 9 rows of the weights for K=10 or K=15, etc."
   ]
  },
  {
   "cell_type": "code",
   "execution_count": null,
   "metadata": {},
   "outputs": [],
   "source": [
    "all_pca = sklearn.decomposition.PCA().fit(x_tr_NF)"
   ]
  },
  {
   "cell_type": "markdown",
   "metadata": {},
   "source": [
    "# Determine how each additional component explains observed variance better"
   ]
  },
  {
   "cell_type": "code",
   "execution_count": null,
   "metadata": {},
   "outputs": [
    {
     "data": {
      "image/png": "[encoded data removed]",
      "text/plain": [
       "<Figure size 800x550 with 1 Axes>"
      ]
     },
     "metadata": {},
     "output_type": "display_data"
    }
   ],
   "source": [
    "plt.plot(np.cumsum(all_pca.explained_variance_ratio_), 'bs-');\n",
    "plt.xlabel('number of components K');\n",
    "plt.ylabel('fraction of variance explained');"
   ]
  },
  {
   "cell_type": "markdown",
   "metadata": {},
   "source": [
    "## Exercise 3a: What K value will give you at least 80% of the variance? 95%?\n",
    "\n",
    "Specify a concrete K value, by carefully interpreting the plot above.\n",
    "\n",
    "Often, we use these heuristics to choose a K that strikes a balance between \"good\" reconstruction and small size."
   ]
  },
  {
   "cell_type": "code",
   "execution_count": null,
   "metadata": {},
   "outputs": [],
   "source": []
  },
  {
   "cell_type": "markdown",
   "metadata": {},
   "source": [
    "## Exercise 3b: Visualize reconstructions for the first 5 training set images with K=30.\n"
   ]
  },
  {
   "cell_type": "code",
   "execution_count": null,
   "metadata": {},
   "outputs": [],
   "source": [
    "# TODO compute z"
   ]
  },
  {
   "cell_type": "code",
   "execution_count": null,
   "metadata": {},
   "outputs": [],
   "source": [
    "# TODO compute xhat given z"
   ]
  },
  {
   "cell_type": "code",
   "execution_count": null,
   "metadata": {},
   "outputs": [],
   "source": [
    "# TODO make plot of reconstructions xhat"
   ]
  },
  {
   "cell_type": "markdown",
   "metadata": {},
   "source": [
    "## Exercise 3c: Visualize reconstructions for the first 5 *test* set images with K=30.\n"
   ]
  },
  {
   "cell_type": "code",
   "execution_count": null,
   "metadata": {},
   "outputs": [],
   "source": [
    "# TODO compute z"
   ]
  },
  {
   "cell_type": "code",
   "execution_count": null,
   "metadata": {},
   "outputs": [],
   "source": [
    "# TODO compute xhat given z"
   ]
  },
  {
   "cell_type": "code",
   "execution_count": null,
   "metadata": {},
   "outputs": [],
   "source": [
    "# TODO make plot of reconstructions xhat"
   ]
  },
  {
   "cell_type": "code",
   "execution_count": null,
   "metadata": {},
   "outputs": [],
   "source": []
  },
  {
   "cell_type": "markdown",
   "metadata": {},
   "source": [
    "# Part 4: Understanding what we mean by \"explained variance\""
   ]
  },
  {
   "cell_type": "markdown",
   "metadata": {},
   "source": [
    "A goal of PCA is to find a low-dimensional reconstruction of our data that contains all the possible \"information\" of our original data.\n",
    "\n",
    "One way to define this precisely is to first look at squared error \"reconstruction cost\" of using just the empirical mean of our training data (this is like PCA with $K=0$)\n",
    "\n",
    "\\begin{align}\n",
    "\\text{cost}_{K=0}(X, m) &= \\frac{1}{N} \\sum_{n=1}^N \\sum_{f=1}^F (x_{nf} - m_f)^2 \\\\\n",
    "&= \\frac{1}{N} \\sum_{n=1}^N \\sum_{f=1}^F \\tilde{x}_{nf}^2, \\qquad \\tilde{x}_{nf} = x_{nf} - m_f\n",
    "\\end{align}\n",
    "\n",
    "Note that this cost is precisely equal to the *empirical variance* of the training set, since variance is the average squared error from the mean.\n",
    "\n",
    "This is just a property of the data itself. We can't change it. But it gives us a place to start when quantifying the quality of a reconstruction.\n",
    "\n",
    "Now, consider a reconstruction that uses the mean $m$ as well as a good $K$-dimensional weight component matrix $W$.\n",
    "\n",
    "We should be able to do better than the baseline above, right?\n",
    "\n",
    "Let's write the cost when we have $K>0$ principal components:\n",
    "\n",
    "\\begin{align}\n",
    "\\text{cost}_K(X, m, W) &= \\frac{1}{N}  \\sum_{n=1}^N \\sum_{f=1}^F (x_{nf} - m_f - \\sum_{k=1}^K W_{kf} \\tilde{x}_{nf} )^2 \\\\\n",
    "\\\\\n",
    "&= \\frac{1}{N}  \\sum_{n=1}^N \\sum_{f=1}^F (\\tilde{x}_{nf} - \\sum_{k=1}^K W_{kf} \\tilde{x}_{nf} )^2 \\\\\n",
    "\\end{align}\n",
    "\n",
    "Now, this cost will have units that depend on the scale of the original data. However, we can look at the *ratio* of this cost to the original mean-only cost above.\n",
    "\n",
    "\\begin{align}\n",
    "\\text{frac-unexplained-variance} = \\frac{\\text{cost}_K(X, m, W)}{\\text{cost}_{K=0}(X,m)}\n",
    "    &= \\frac\n",
    "        { \\frac{1}{N}  \\sum_{n=1}^N \\sum_{f=1}^F (\\tilde{x}_{nf} - \\sum_{k=1}^K W_{kf} \\tilde{x}_{nf} )^2 }\n",
    "        { \\frac{1}{N}  \\sum_{n=1}^N \\sum_{f=1}^F \\tilde{x}_{nf}^2 }\n",
    "\\end{align}\n",
    "\n",
    "Notice that as $K \\rightarrow 0$, this ratio approaches 1, while as $K \\rightarrow F$ this ratio approaches 0 on the training set. It turns out that this ratio will *monotonically decrease* as we increase $K$ and iteratively find the optimal weights $W$ for that K value. \n",
    "\n",
    "We can thus interpret this fraction as a measure of the *unexplained* variance of our original dataset. If the fraction is close to 1., most of our data is not well approximated by our PCA reconstructions. If the fraction is close to 0, we are doing a good job (most of the variance is accounted for).\n",
    "\n"
   ]
  },
  {
   "cell_type": "markdown",
   "metadata": {},
   "source": [
    "### Surprising result: We can compute this fraction simply using sums of eigenvalues we already have!"
   ]
  },
  {
   "cell_type": "markdown",
   "metadata": {},
   "source": [
    "Now we can show a surprising result. The denominator can be computed as the sum of all eigenvalues of the covariance of $X$. And the numerator can be computed as a partial version of this sum.\n",
    "\n",
    "$$\n",
    "\\text{frac-unexplained-variance} = \\frac{\\text{cost}_K(X, m, W)}{\\text{cost}_{K=0}(X,m)}\n",
    "    = \\frac\n",
    "        { \\sum_{\\ell={K+1}}^F \\lambda_{\\ell} }\n",
    "        { \\sum_{f={1}}^F \\lambda_{f} }\n",
    "$$\n",
    "\n",
    "where $\\lambda_k$ is the $k$-th largest eigenvalue of the $F \\times F$ covariance matrix of the training data"
   ]
  },
  {
   "cell_type": "markdown",
   "metadata": {},
   "source": [
    "## Computing the denominator (PCA with K=0 reconstruction cost) in 3 ways"
   ]
  },
  {
   "cell_type": "markdown",
   "metadata": {},
   "source": [
    "### Method 1: Directly compute reconstruction cost with K=0 model"
   ]
  },
  {
   "cell_type": "code",
   "execution_count": null,
   "metadata": {},
   "outputs": [],
   "source": [
    "m_1F = np.mean(x_tr_NF, axis=0)[np.newaxis,:]"
   ]
  },
  {
   "cell_type": "code",
   "execution_count": null,
   "metadata": {},
   "outputs": [],
   "source": [
    "costK0_v1 = np.sum(np.mean(np.square(x_tr_NF - m_1F), axis=0))"
   ]
  },
  {
   "cell_type": "code",
   "execution_count": null,
   "metadata": {},
   "outputs": [
    {
     "data": {
      "text/plain": [
       "4.686065871686287"
      ]
     },
     "execution_count": null,
     "metadata": {},
     "output_type": "execute_result"
    }
   ],
   "source": [
    "costK0_v1"
   ]
  },
  {
   "cell_type": "markdown",
   "metadata": {},
   "source": [
    "### Method 2: Compute cost by measuring empirical variance of each feature and adding up"
   ]
  },
  {
   "cell_type": "code",
   "execution_count": null,
   "metadata": {},
   "outputs": [],
   "source": [
    "cov_FF = np.cov(x_tr_NF.T, bias=1)"
   ]
  },
  {
   "cell_type": "code",
   "execution_count": null,
   "metadata": {},
   "outputs": [],
   "source": [
    "var_F = np.diag(cov_FF)"
   ]
  },
  {
   "cell_type": "code",
   "execution_count": null,
   "metadata": {},
   "outputs": [],
   "source": [
    "costK0_v2 = np.sum(var_F)"
   ]
  },
  {
   "cell_type": "code",
   "execution_count": null,
   "metadata": {},
   "outputs": [
    {
     "data": {
      "text/plain": [
       "4.686065871686281"
      ]
     },
     "execution_count": null,
     "metadata": {},
     "output_type": "execute_result"
    }
   ],
   "source": [
    "costK0_v2"
   ]
  },
  {
   "cell_type": "markdown",
   "metadata": {},
   "source": [
    "### Method 3: Compute cost as sum of eigenvalues of covariance matrix"
   ]
  },
  {
   "cell_type": "code",
   "execution_count": null,
   "metadata": {},
   "outputs": [],
   "source": [
    "lam_F, W_FF = np.linalg.eig(cov_FF)"
   ]
  },
  {
   "cell_type": "markdown",
   "metadata": {},
   "source": [
    "Get eigenvalues in sorted order from big to small"
   ]
  },
  {
   "cell_type": "code",
   "execution_count": null,
   "metadata": {},
   "outputs": [],
   "source": [
    "sorted_ids = np.argsort(-1 * lam_F)"
   ]
  },
  {
   "cell_type": "code",
   "execution_count": null,
   "metadata": {},
   "outputs": [],
   "source": [
    "lam_F = lam_F[sorted_ids]\n",
    "W_FF = W_FF[:, sorted_ids]"
   ]
  },
  {
   "cell_type": "code",
   "execution_count": null,
   "metadata": {},
   "outputs": [
    {
     "data": {
      "text/plain": [
       "array([0.69601696, 0.64133098, 0.55282934, 0.39584765, 0.26867765,\n",
       "       0.2312219 , 0.20297662, 0.17096015, 0.15846922, 0.14244372])"
      ]
     },
     "execution_count": null,
     "metadata": {},
     "output_type": "execute_result"
    }
   ],
   "source": [
    "lam_F[:10]"
   ]
  },
  {
   "cell_type": "code",
   "execution_count": null,
   "metadata": {},
   "outputs": [],
   "source": [
    "costK0_v3 = np.sum(lam_F)"
   ]
  },
  {
   "cell_type": "code",
   "execution_count": null,
   "metadata": {},
   "outputs": [
    {
     "data": {
      "text/plain": [
       "4.686065871686284"
      ]
     },
     "execution_count": null,
     "metadata": {},
     "output_type": "execute_result"
    }
   ],
   "source": [
    "costK0_v3"
   ]
  },
  {
   "cell_type": "markdown",
   "metadata": {},
   "source": [
    "Verify all three methods are the same!"
   ]
  },
  {
   "cell_type": "code",
   "execution_count": null,
   "metadata": {},
   "outputs": [
    {
     "data": {
      "text/plain": [
       "4.686065871686287"
      ]
     },
     "execution_count": null,
     "metadata": {},
     "output_type": "execute_result"
    }
   ],
   "source": [
    "costK0_v1"
   ]
  },
  {
   "cell_type": "code",
   "execution_count": null,
   "metadata": {},
   "outputs": [
    {
     "data": {
      "text/plain": [
       "4.686065871686281"
      ]
     },
     "execution_count": null,
     "metadata": {},
     "output_type": "execute_result"
    }
   ],
   "source": [
    "costK0_v2"
   ]
  },
  {
   "cell_type": "code",
   "execution_count": null,
   "metadata": {},
   "outputs": [
    {
     "data": {
      "text/plain": [
       "4.686065871686284"
      ]
     },
     "execution_count": null,
     "metadata": {},
     "output_type": "execute_result"
    }
   ],
   "source": [
    "costK0_v3"
   ]
  },
  {
   "cell_type": "markdown",
   "metadata": {},
   "source": [
    "## Computing the numerator (PCA with K-components reconstruction cost) in 2 ways"
   ]
  },
  {
   "cell_type": "code",
   "execution_count": null,
   "metadata": {},
   "outputs": [],
   "source": [
    "K = 3"
   ]
  },
  {
   "cell_type": "code",
   "execution_count": null,
   "metadata": {},
   "outputs": [],
   "source": [
    "xtilde_NF = x_tr_NF - m_1F"
   ]
  },
  {
   "cell_type": "markdown",
   "metadata": {},
   "source": [
    "### Method 1: Direct reconstruction cost calculation"
   ]
  },
  {
   "cell_type": "code",
   "execution_count": null,
   "metadata": {},
   "outputs": [],
   "source": [
    "W_KF = W_FF[:, :K].T.copy()"
   ]
  },
  {
   "cell_type": "markdown",
   "metadata": {},
   "source": [
    "Compute xhat given x in 2 steps:\n",
    "\n",
    "* project each x to z\n",
    "* then project each z back to xhat"
   ]
  },
  {
   "cell_type": "code",
   "execution_count": null,
   "metadata": {},
   "outputs": [],
   "source": [
    "# Step 1: x to z\n",
    "z_tr_NK = np.dot(xtilde_NF, W_KF.T)"
   ]
  },
  {
   "cell_type": "code",
   "execution_count": null,
   "metadata": {},
   "outputs": [],
   "source": [
    "# Step 2: z to xhat\n",
    "xhat_tr_NF = np.dot(z_tr_NK, W_KF) + m_1F"
   ]
  },
  {
   "cell_type": "markdown",
   "metadata": {},
   "source": [
    "Now compute the total reconstruction cost"
   ]
  },
  {
   "cell_type": "code",
   "execution_count": null,
   "metadata": {},
   "outputs": [],
   "source": [
    "costK_v1 = np.sum(np.mean(np.square(x_tr_NF - xhat_tr_NF), axis=0))"
   ]
  },
  {
   "cell_type": "code",
   "execution_count": null,
   "metadata": {},
   "outputs": [
    {
     "data": {
      "text/plain": [
       "2.7958885969409755"
      ]
     },
     "execution_count": null,
     "metadata": {},
     "output_type": "execute_result"
    }
   ],
   "source": [
    "costK_v1"
   ]
  },
  {
   "cell_type": "markdown",
   "metadata": {},
   "source": [
    "### Method 2: Calculation just summing all eigenvalues except the top-K"
   ]
  },
  {
   "cell_type": "code",
   "execution_count": null,
   "metadata": {},
   "outputs": [],
   "source": [
    "costK_v2 = np.sum(lam_F[K:])"
   ]
  },
  {
   "cell_type": "code",
   "execution_count": null,
   "metadata": {},
   "outputs": [
    {
     "data": {
      "text/plain": [
       "2.795888596940976"
      ]
     },
     "execution_count": null,
     "metadata": {},
     "output_type": "execute_result"
    }
   ],
   "source": [
    "costK_v2"
   ]
  },
  {
   "cell_type": "code",
   "execution_count": null,
   "metadata": {},
   "outputs": [
    {
     "data": {
      "text/plain": [
       "True"
      ]
     },
     "execution_count": null,
     "metadata": {},
     "output_type": "execute_result"
    }
   ],
   "source": [
    "np.allclose(costK_v1, costK_v2)"
   ]
  },
  {
   "cell_type": "markdown",
   "metadata": {},
   "source": [
    "## Bringing it all together: Fraction of variance explained"
   ]
  },
  {
   "cell_type": "markdown",
   "metadata": {},
   "source": [
    "Thus, a measure of our reconstruction quality on the training set is given by the fraction of variance that is explained by our $K$-component PCA\n",
    "\n",
    "Note, we switch here to using fraction-of-explained-variance (rather than unexplained).\n",
    "\n",
    "$$\n",
    "\\text{frac-explained-variance} = 1 - \\frac{\\text{cost}_K(X, m, W)}{\\text{cost}_{K=0}(X,m)}\n",
    "    = \\frac\n",
    "        { \\sum_{\\ell={1}}^K \\lambda_{\\ell} }\n",
    "        { \\sum_{f={1}}^F \\lambda_{f} }\n",
    "$$\n"
   ]
  },
  {
   "cell_type": "code",
   "execution_count": null,
   "metadata": {},
   "outputs": [
    {
     "data": {
      "text/plain": [
       "3"
      ]
     },
     "execution_count": null,
     "metadata": {},
     "output_type": "execute_result"
    }
   ],
   "source": [
    "K"
   ]
  },
  {
   "cell_type": "markdown",
   "metadata": {},
   "source": [
    "### Version 1: Ratio of direct reconstruction costs (PCA with K to PCA with 0 components)"
   ]
  },
  {
   "cell_type": "code",
   "execution_count": null,
   "metadata": {},
   "outputs": [],
   "source": [
    "frac_explained_var = 1 - (costK_v1 / costK0_v1)"
   ]
  },
  {
   "cell_type": "code",
   "execution_count": null,
   "metadata": {},
   "outputs": [
    {
     "data": {
      "text/plain": [
       "0.4033612259200122"
      ]
     },
     "execution_count": null,
     "metadata": {},
     "output_type": "execute_result"
    }
   ],
   "source": [
    "frac_explained_var"
   ]
  },
  {
   "cell_type": "markdown",
   "metadata": {},
   "source": [
    "### Version 2: Ratio of sums of eigenvectors"
   ]
  },
  {
   "cell_type": "code",
   "execution_count": null,
   "metadata": {},
   "outputs": [],
   "source": [
    "frac_explained_var_v2 = np.sum(lam_F[:K]) / np.sum(lam_F)"
   ]
  },
  {
   "cell_type": "code",
   "execution_count": null,
   "metadata": {},
   "outputs": [
    {
     "data": {
      "text/plain": [
       "0.40336122592001183"
      ]
     },
     "execution_count": null,
     "metadata": {},
     "output_type": "execute_result"
    }
   ],
   "source": [
    "frac_explained_var_v2"
   ]
  },
  {
   "cell_type": "markdown",
   "metadata": {},
   "source": [
    "### Version 3: Check against sklearn implementation"
   ]
  },
  {
   "cell_type": "code",
   "execution_count": null,
   "metadata": {},
   "outputs": [
    {
     "data": {
      "text/plain": [
       "0.40336122592001167"
      ]
     },
     "execution_count": null,
     "metadata": {},
     "output_type": "execute_result"
    }
   ],
   "source": [
    "np.sum(all_pca.explained_variance_ratio_[:K])"
   ]
  },
  {
   "cell_type": "code",
   "execution_count": null,
   "metadata": {},
   "outputs": [],
   "source": []
  },
  {
   "cell_type": "code",
   "execution_count": null,
   "metadata": {},
   "outputs": [],
   "source": []
  },
  {
   "cell_type": "code",
   "execution_count": null,
   "metadata": {},
   "outputs": [],
   "source": []
  },
  {
   "cell_type": "code",
   "execution_count": null,
   "metadata": {},
   "outputs": [],
   "source": []
  }
 ],
 "metadata": {
  "kernelspec": {
   "display_name": "python3",
   "language": "python",
   "name": "python3"
  }
 },
 "nbformat": 4,
 "nbformat_minor": 2
}
