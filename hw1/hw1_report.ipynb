{
 "cells": [
  {
   "cell_type": "markdown",
   "metadata": {},
   "source": [
    "# HW1 : Regression, Cross-Validation, and  Regularization"
   ]
  },
  {
   "cell_type": "code",
   "execution_count": 1,
   "metadata": {},
   "outputs": [],
   "source": [
    "import os\n",
    "import numpy as np\n",
    "import pandas as pd\n",
    " \n",
    "import sklearn.preprocessing\n",
    "import sklearn.pipeline\n",
    "import sklearn.linear_model\n"
   ]
  },
  {
   "cell_type": "code",
   "execution_count": 2,
   "metadata": {},
   "outputs": [],
   "source": [
    "from matplotlib import pyplot as plt\n",
    "\n",
    "import seaborn as sns\n",
    "sns.set('notebook', font_scale=1.25, style='whitegrid')\n"
   ]
  },
  {
   "cell_type": "markdown",
   "metadata": {},
   "source": [
    "### Configuration\n",
    "\n",
    "We assume your current directory contains folder 'data_auto'\n",
    "\n",
    "To make this happen, before you run the notebook, be sure you have\n",
    "* updated your local copy of the cs135-23f-assignments repo \n",
    "* cd into the hw1 dir"
   ]
  },
  {
   "cell_type": "code",
   "execution_count": 3,
   "metadata": {},
   "outputs": [],
   "source": [
    "SEED = 12345 \n",
    "\n",
    "DATA_DIR = 'data_auto'\n"
   ]
  },
  {
   "cell_type": "code",
   "execution_count": 4,
   "metadata": {},
   "outputs": [],
   "source": [
    "# If running in cloud on Google colab, this code will acquire necessary data files\n",
    "if os.getenv(\"COLAB_RELEASE_TAG\") and not os.path.exists(DATA_DIR):\n",
    "    !git clone https://github.com/tufts-ml-courses/cs135-23f-assignments.git\n",
    "    os.chdir(os.path.join('cs135-23f-assignments', 'hw1'))\n",
    "if not os.path.exists(DATA_DIR):\n",
    "    raise ValueError(\"Need to run this script within a valid checkout of the cs135 repo\")\n"
   ]
  },
  {
   "cell_type": "markdown",
   "metadata": {},
   "source": [
    "### Methods for loading dataset"
   ]
  },
  {
   "cell_type": "code",
   "execution_count": 5,
   "metadata": {},
   "outputs": [],
   "source": [
    "def load_2d_arr_from_csv(fname, include_header=False):\n",
    "    x = np.loadtxt(os.path.join(DATA_DIR, fname), delimiter=',', skiprows=1)\n",
    "    assert x.ndim == 2\n",
    "    if include_header:\n",
    "        header_cols = np.loadtxt(os.path.join(DATA_DIR, fname), delimiter=',', dtype=str)[0].tolist()\n",
    "        return x, header_cols\n",
    "    else:\n",
    "        return x\n",
    "    \n",
    "def load_1d_arr_from_csv(fname):\n",
    "    x = np.loadtxt(os.path.join(DATA_DIR, fname), delimiter=',', skiprows=1)\n",
    "    if x.ndim == 1:\n",
    "        return x\n",
    "    else:\n",
    "        raise ValueError(\"Not 1d\")\n"
   ]
  },
  {
   "cell_type": "markdown",
   "metadata": {},
   "source": [
    "# Load the dataset\n",
    "\n",
    "Predefined 'x' and 'y' arrays for train/valid/test"
   ]
  },
  {
   "cell_type": "code",
   "execution_count": 6,
   "metadata": {},
   "outputs": [],
   "source": [
    "x_tr_MF, xcolnames_F = load_2d_arr_from_csv('x_train.csv', include_header=True)\n",
    "x_va_NF = load_2d_arr_from_csv('x_valid.csv')\n",
    "x_te_PF = load_2d_arr_from_csv('x_test.csv')\n"
   ]
  },
  {
   "cell_type": "code",
   "execution_count": 7,
   "metadata": {},
   "outputs": [
    {
     "name": "stdout",
     "output_type": "stream",
     "text": [
      "['horsepower', 'weight', 'cylinders', 'displacement']\n"
     ]
    }
   ],
   "source": [
    "print(xcolnames_F)\n"
   ]
  },
  {
   "cell_type": "code",
   "execution_count": 8,
   "metadata": {},
   "outputs": [
    {
     "name": "stdout",
     "output_type": "stream",
     "text": [
      "[[ 115. 2595.    6.  173.]\n",
      " [ 180. 4380.    8.  350.]\n",
      " [ 150. 4457.    8.  318.]\n",
      " [ 105. 3897.    6.  250.]\n",
      " [ 193. 4732.    8.  304.]]\n"
     ]
    }
   ],
   "source": [
    "print(x_tr_MF[:5])\n"
   ]
  },
  {
   "cell_type": "code",
   "execution_count": 9,
   "metadata": {},
   "outputs": [],
   "source": [
    "y_tr_M = load_1d_arr_from_csv('y_train.csv')\n",
    "y_va_N = load_1d_arr_from_csv('y_valid.csv')\n",
    "y_te_P = load_1d_arr_from_csv('y_test.csv')\n"
   ]
  },
  {
   "cell_type": "code",
   "execution_count": 10,
   "metadata": {},
   "outputs": [
    {
     "name": "stdout",
     "output_type": "stream",
     "text": [
      "[[28.8]\n",
      " [16.5]\n",
      " [14. ]\n",
      " [16. ]\n",
      " [ 9. ]]\n"
     ]
    }
   ],
   "source": [
    "print(y_tr_M[:5,np.newaxis])\n"
   ]
  },
  {
   "cell_type": "code",
   "execution_count": 11,
   "metadata": {},
   "outputs": [
    {
     "data": {
      "text/plain": [
       "46.6"
      ]
     },
     "execution_count": 11,
     "metadata": {},
     "output_type": "execute_result"
    }
   ],
   "source": [
    "y_tr_M.max()\n"
   ]
  },
  {
   "cell_type": "code",
   "execution_count": 12,
   "metadata": {},
   "outputs": [],
   "source": [
    "Y_MAX = 60.0\n"
   ]
  },
  {
   "cell_type": "markdown",
   "metadata": {},
   "source": [
    "## Load completed code"
   ]
  },
  {
   "cell_type": "code",
   "execution_count": 13,
   "metadata": {},
   "outputs": [],
   "source": [
    "from performance_metrics import calc_root_mean_squared_error\n",
    "from cross_validation import train_models_and_calc_scores_for_n_fold_cv\n"
   ]
  },
  {
   "cell_type": "markdown",
   "metadata": {},
   "source": [
    "## Define useful plotting functions"
   ]
  },
  {
   "cell_type": "code",
   "execution_count": 14,
   "metadata": {},
   "outputs": [],
   "source": [
    "def plot_train_and_valid_error_vs_hyper(\n",
    "        hyper_list, err_tr_list=None, err_va_list=None,\n",
    "        ymax=40,\n",
    "        leg_loc='upper right',\n",
    "        xlabel='polynomial degree',\n",
    "        ylabel='RMSE'):\n",
    "    if err_va_list is not None:\n",
    "        plt.plot(hyper_list, err_va_list, 'rs-', label='valid')\n",
    "    if err_tr_list is not None:\n",
    "        plt.plot(hyper_list, err_tr_list, 'bd:', label='train')\n",
    "    plt.ylim([0, ymax])\n",
    "    plt.legend(loc=leg_loc)\n",
    "    plt.xlabel(xlabel)\n",
    "    plt.ylabel(ylabel)\n"
   ]
  },
  {
   "cell_type": "markdown",
   "metadata": {},
   "source": [
    "## Method to sanitize predictions\n",
    "\n",
    "We are predicting MPG, which should \n",
    "* (1) always be positive, and\n",
    "* (2) will probably never exceed 120% of the largest value we see in train data"
   ]
  },
  {
   "cell_type": "code",
   "execution_count": 15,
   "metadata": {},
   "outputs": [],
   "source": [
    "def sanitize(yhat_N):\n",
    "    yhat_N = np.maximum(yhat_N, 0)\n",
    "    yhat_N = np.minimum(yhat_N, Y_MAX)\n",
    "    return yhat_N\n"
   ]
  },
  {
   "cell_type": "code",
   "execution_count": 16,
   "metadata": {},
   "outputs": [],
   "source": [
    "bad_yhat_N = np.asarray([-10, -1, 0, 1, 5, 10, 50, 55, 60, 65])\n"
   ]
  },
  {
   "cell_type": "code",
   "execution_count": 17,
   "metadata": {},
   "outputs": [
    {
     "data": {
      "text/plain": [
       "array([-10,  -1,   0,   1,   5,  10,  50,  55,  60,  65])"
      ]
     },
     "execution_count": 17,
     "metadata": {},
     "output_type": "execute_result"
    }
   ],
   "source": [
    "bad_yhat_N\n"
   ]
  },
  {
   "cell_type": "code",
   "execution_count": 18,
   "metadata": {},
   "outputs": [
    {
     "data": {
      "text/plain": [
       "array([ 0.,  0.,  0.,  1.,  5., 10., 50., 55., 60., 60.])"
      ]
     },
     "execution_count": 18,
     "metadata": {},
     "output_type": "execute_result"
    }
   ],
   "source": [
    "sanitize(bad_yhat_N)\n"
   ]
  },
  {
   "cell_type": "markdown",
   "metadata": {},
   "source": [
    "## Methods for building pipelines"
   ]
  },
  {
   "cell_type": "code",
   "execution_count": 19,
   "metadata": {},
   "outputs": [],
   "source": [
    "def make_poly_linear_regr_pipeline(degree=1):\n",
    "    pipeline = sklearn.pipeline.Pipeline(\n",
    "        steps=[\n",
    "         ('rescaler', sklearn.preprocessing.MinMaxScaler()),\n",
    "         ('poly_transformer', sklearn.preprocessing.PolynomialFeatures(degree=degree, include_bias=False)),\n",
    "         ('linear_regr', sklearn.linear_model.LinearRegression()),\n",
    "        ])\n",
    "    \n",
    "    # Return the constructed pipeline\n",
    "    # We can treat it as if it has a 'regression' API\n",
    "    # e.g. a fit and a predict method\n",
    "    return pipeline\n"
   ]
  },
  {
   "cell_type": "code",
   "execution_count": 20,
   "metadata": {},
   "outputs": [],
   "source": [
    "\n",
    "\n",
    "def make_poly_ridge_regr_pipeline(degree=1, alpha=1.0):\n",
    "    pipeline = sklearn.pipeline.Pipeline(\n",
    "        steps=[\n",
    "         ('rescaler', sklearn.preprocessing.MinMaxScaler()),\n",
    "         ('poly_transformer', sklearn.preprocessing.PolynomialFeatures(degree=degree, include_bias=False)),\n",
    "         ('linear_regr', sklearn.linear_model.Ridge(alpha=alpha)),\n",
    "        ])\n",
    "\n",
    "    # Return the constructed pipeline\n",
    "    # We can treat it as if it has a 'regression' API\n",
    "    # e.g. a fit and a predict method\n",
    "    return pipeline\n",
    "     \n"
   ]
  },
  {
   "cell_type": "markdown",
   "metadata": {},
   "source": [
    "## Methods to inspect learned weights"
   ]
  },
  {
   "cell_type": "code",
   "execution_count": 21,
   "metadata": {},
   "outputs": [],
   "source": [
    "\n",
    "def pretty_print_learned_weights(pipeline, xcolnames_F):\n",
    "    ''' Print the learned parameters of given pipeline\n",
    "    '''\n",
    "    my_lin_regr = pipeline.named_steps['linear_regr']\n",
    "\n",
    "    feat_names = pipeline.named_steps['poly_transformer'].get_feature_names_out()\n",
    "    coef_values = my_lin_regr.coef_\n",
    "\n",
    "    for feat, coef in zip(feat_names, coef_values):\n",
    "        print(\"% 7.2f : %s\" % (coef, feat))\n",
    "    \n",
    "    print(\"where \")\n",
    "    for ff, colname in enumerate(xcolnames_F):\n",
    "        print(\"x%d = %s\" % (ff, colname))\n",
    "     \n"
   ]
  },
  {
   "cell_type": "markdown",
   "metadata": {},
   "source": [
    "## Problem 1: Polynomial Degree Selection on Fixed Validation Set"
   ]
  },
  {
   "cell_type": "code",
   "execution_count": 64,
   "metadata": {},
   "outputs": [],
   "source": [
    "degree_list = [1, 2, 3, 4, 5, 6, 7]\n",
    "fv_err_tr_list = []\n",
    "fv_err_va_list = []\n",
    "\n",
    "fv_pipeline_list = []\n",
    "for degree in degree_list:\n",
    "\n",
    "    pipeline = sklearn.pipeline.Pipeline(\n",
    "        steps=[\n",
    "            ('rescaler', sklearn.preprocessing.MinMaxScaler()),\n",
    "            ('poly_transformer', sklearn.preprocessing.PolynomialFeatures(degree=degree, include_bias=False)),\n",
    "            ('linear_regr', sklearn.linear_model.LinearRegression()),\n",
    "        ])\n",
    "\n",
    "    pipeline.fit(x_tr_MF, y_tr_M)\n",
    "\n",
    "    # Compute training error\n",
    "    yhat_tr_M = sanitize(pipeline.predict(x_tr_MF))\n",
    "    yhat_va_N = sanitize(pipeline.predict(x_va_NF))\n",
    "\n",
    "    err_tr = calc_root_mean_squared_error(y_tr_M, yhat_tr_M)\n",
    "    err_va = calc_root_mean_squared_error(y_va_N, yhat_va_N)\n",
    "\n",
    "    fv_err_tr_list.append(err_tr)\n",
    "    fv_err_va_list.append(err_va)\n",
    "    \n",
    "    fv_pipeline_list.append(pipeline)\n"
   ]
  },
  {
   "cell_type": "markdown",
   "metadata": {},
   "source": [
    "### Figure 1: Error vs degree"
   ]
  },
  {
   "cell_type": "code",
   "execution_count": 65,
   "metadata": {},
   "outputs": [
    {
     "data": {
      "text/plain": [
       "Text(0.5, 1.0, 'RMSE vs. Degree')"
      ]
     },
     "execution_count": 65,
     "metadata": {},
     "output_type": "execute_result"
    },
    {
     "data": {
      "image/png": "[encoded data removed]",
      "text/plain": [
       "<Figure size 640x480 with 1 Axes>"
      ]
     },
     "metadata": {},
     "output_type": "display_data"
    }
   ],
   "source": [
    "plot_train_and_valid_error_vs_hyper(\n",
    "    degree_list, fv_err_tr_list, fv_err_va_list, leg_loc='upper left')\n",
    "plt.title('RMSE vs. Degree')\n"
   ]
  },
  {
   "cell_type": "markdown",
   "metadata": {},
   "source": [
    "### Implementation 1B: Score on the test set using the chosen model\n",
    "\n",
    "Select the model hyperparameters that *minimize* your fixed validation set error. Using your already-trained LinearRegression model with these best hyperparameters, compute error on the *test* set. Save this test set error value for later."
   ]
  },
  {
   "cell_type": "code",
   "execution_count": 24,
   "metadata": {},
   "outputs": [
    {
     "name": "stdout",
     "output_type": "stream",
     "text": [
      "Selected Parameters:\n",
      "degree=2\n",
      "Fixed validation set estimate of heldout error:\n",
      "3.974075330754534\n",
      "Error on the test-set:\n",
      "3.99150254645676\n"
     ]
    }
   ],
   "source": [
    "print(\"Selected Parameters:\")\n",
    "print(f\"degree={np.argmin(fv_err_va_list) + 1}\")\n",
    "print(\"Fixed validation set estimate of heldout error:\")\n",
    "print(np.min(fv_err_va_list))\n",
    "print(\"Error on the test-set:\")\n",
    "pline = fv_pipeline_list[np.argmin(fv_err_va_list)]\n",
    "yhat_te_P = sanitize(pline.predict(x_te_PF))\n",
    "te_err = calc_root_mean_squared_error(yhat_te_P, y_te_P)\n",
    "print(te_err)\n"
   ]
  },
  {
   "cell_type": "code",
   "execution_count": 25,
   "metadata": {},
   "outputs": [],
   "source": [
    "score = te_err\n"
   ]
  },
  {
   "cell_type": "markdown",
   "metadata": {},
   "source": [
    "### Short Answer 1a in Report\n",
    "\n",
    "Investigate why preprocessing is necessary"
   ]
  },
  {
   "cell_type": "code",
   "execution_count": 26,
   "metadata": {},
   "outputs": [],
   "source": [
    "# WRITE THIS IN YOUR REPORT, NOT IN THIS NOTEBOOK\n"
   ]
  },
  {
   "cell_type": "markdown",
   "metadata": {},
   "source": [
    "### Short Answer 1b in Report\n",
    "\n",
    "Consider the model with degree 1. \n",
    "Following the starter code, print out the values of **all** the learned weight parameters (aka coefficients)."
   ]
  },
  {
   "cell_type": "code",
   "execution_count": 27,
   "metadata": {},
   "outputs": [
    {
     "name": "stdout",
     "output_type": "stream",
     "text": [
      " -10.43 : x0\n",
      " -18.23 : x1\n",
      "  -1.15 : x2\n",
      "   0.58 : x3\n",
      "where \n",
      "x0 = horsepower\n",
      "x1 = weight\n",
      "x2 = cylinders\n",
      "x3 = displacement\n"
     ]
    }
   ],
   "source": [
    "# def pretty_print_learned_weights(pipeline):\n",
    "#     feat_names = xcolnames_F\n",
    "#     for ff in range(len(feat_names)):\n",
    "#         coef_val_ff = pipeline.named_steps['linear_regr'].coef_[ff]\n",
    "#         if np.allclose(coef_val_ff, 0):\n",
    "#             coef_val_ff = 0.0\n",
    "#         print(f\"{feat_names[ff]:13}: {coef_val_ff:7.3f}\")\n",
    "            \n",
    "#     print(f\"Intercept    : {pipeline.named_steps['linear_regr'].intercept_:7.3f}\")\n",
    "\n",
    "pretty_print_learned_weights(fv_pipeline_list[0], xcolnames_F)\n"
   ]
  },
  {
   "cell_type": "markdown",
   "metadata": {},
   "source": [
    "### Short Answer 1c in Report\n",
    "\n",
    "Consider the models with degree 3 or 4. \n",
    "Inspect the learned weight parameters, including the number of parameters and their relative magnitudes.\n",
    "\n",
    "What do you notice about these values compared to the values with degree 1 or 2?\n",
    "How might what you notice be connected to the trends in training and validation set performance you observe in Figure 1?"
   ]
  },
  {
   "cell_type": "code",
   "execution_count": 28,
   "metadata": {},
   "outputs": [
    {
     "name": "stdout",
     "output_type": "stream",
     "text": [
      " -51.31 : x0\n",
      "  -0.19 : x1\n",
      " -71.52 : x2\n",
      "  -1.51 : x3\n",
      "  -6.50 : x0^2\n",
      " -89.63 : x0 x1\n",
      " 111.51 : x0 x2\n",
      " 154.55 : x0 x3\n",
      " -24.89 : x1^2\n",
      " 273.68 : x1 x2\n",
      "-324.89 : x1 x3\n",
      " 232.32 : x2^2\n",
      "-729.76 : x2 x3\n",
      " 619.52 : x3^2\n",
      " -25.77 : x0^3\n",
      "-525.15 : x0^2 x1\n",
      " 109.24 : x0^2 x2\n",
      " 533.34 : x0^2 x3\n",
      " 550.23 : x0 x1^2\n",
      "-721.22 : x0 x1 x2\n",
      " 937.28 : x0 x1 x3\n",
      "-108.35 : x0 x2^2\n",
      " 570.59 : x0 x2 x3\n",
      "-1485.19 : x0 x3^2\n",
      " 109.45 : x1^3\n",
      "-167.95 : x1^2 x2\n",
      "-517.84 : x1^2 x3\n",
      " -71.97 : x1 x2^2\n",
      " 797.23 : x1 x2 x3\n",
      "-212.40 : x1 x3^2\n",
      "-294.17 : x2^3\n",
      " 1077.75 : x2^2 x3\n",
      "-1696.77 : x2 x3^2\n",
      " 1025.55 : x3^3\n",
      "where \n",
      "x0 = horsepower\n",
      "x1 = weight\n",
      "x2 = cylinders\n",
      "x3 = displacement\n",
      "-=-=-=-=-\n",
      " 617.45 : x0\n",
      "-191.08 : x1\n",
      " 1774.24 : x2\n",
      "-1343.56 : x3\n",
      " 159.25 : x0^2\n",
      "-323.66 : x0 x1\n",
      "-5179.64 : x0 x2\n",
      " 198.45 : x0 x3\n",
      "  61.37 : x1^2\n",
      " 2573.25 : x1 x2\n",
      "-1596.95 : x1 x3\n",
      "-5943.40 : x2^2\n",
      " 7359.52 : x2 x3\n",
      " 2883.15 : x3^2\n",
      "-630.58 : x0^3\n",
      " 1377.51 : x0^2 x1\n",
      "-1600.47 : x0^2 x2\n",
      " 1529.25 : x0^2 x3\n",
      "-105.12 : x0 x1^2\n",
      "-7880.76 : x0 x1 x2\n",
      " 12085.95 : x0 x1 x3\n",
      " 13051.50 : x0 x2^2\n",
      " 5626.91 : x0 x2 x3\n",
      "-14222.70 : x0 x3^2\n",
      " 611.22 : x1^3\n",
      "-1478.94 : x1^2 x2\n",
      "-359.76 : x1^2 x3\n",
      "-7343.55 : x1 x2^2\n",
      " 17674.97 : x1 x2 x3\n",
      "-13648.53 : x1 x3^2\n",
      " 4525.05 : x2^3\n",
      "  47.94 : x2^2 x3\n",
      "-34068.88 : x2 x3^2\n",
      " 20804.11 : x3^3\n",
      "-345.94 : x0^4\n",
      " 1047.47 : x0^3 x1\n",
      " 133.89 : x0^3 x2\n",
      " 702.32 : x0^3 x3\n",
      " 1031.68 : x0^2 x1^2\n",
      " 3678.25 : x0^2 x1 x2\n",
      "-11633.91 : x0^2 x1 x3\n",
      "-1147.94 : x0^2 x2^2\n",
      " 1506.00 : x0^2 x2 x3\n",
      " 3042.21 : x0^2 x3^2\n",
      "-5637.55 : x0 x1^3\n",
      " 3990.55 : x0 x1^2 x2\n",
      " 7624.03 : x0 x1^2 x3\n",
      " 12467.48 : x0 x1 x2^2\n",
      "-36650.46 : x0 x1 x2 x3\n",
      " 19120.42 : x0 x1 x3^2\n",
      "-6959.36 : x0 x2^3\n",
      "-12414.29 : x0 x2^2 x3\n",
      " 31670.59 : x0 x2 x3^2\n",
      "-15448.88 : x0 x3^3\n",
      "-524.40 : x1^4\n",
      "-3360.09 : x1^3 x2\n",
      " 9784.64 : x1^3 x3\n",
      " 4470.47 : x1^2 x2^2\n",
      "-2283.03 : x1^2 x2 x3\n",
      "-14453.48 : x1^2 x3^2\n",
      " 6639.92 : x1 x2^3\n",
      "-33016.35 : x1 x2^2 x3\n",
      " 48066.73 : x1 x2 x3^2\n",
      "-11747.60 : x1 x3^3\n",
      " 602.53 : x2^4\n",
      "-12796.21 : x2^3 x3\n",
      " 55023.35 : x2^2 x3^2\n",
      "-56683.53 : x2 x3^3\n",
      " 17563.69 : x3^4\n",
      "where \n",
      "x0 = horsepower\n",
      "x1 = weight\n",
      "x2 = cylinders\n",
      "x3 = displacement\n"
     ]
    }
   ],
   "source": [
    "pretty_print_learned_weights(fv_pipeline_list[2], xcolnames_F)\n",
    "print(\"-=-=-=-=-\")\n",
    "pretty_print_learned_weights(fv_pipeline_list[3], xcolnames_F)\n"
   ]
  },
  {
   "cell_type": "markdown",
   "metadata": {},
   "source": [
    "# Problem 2: Alpha Selection on Fixed Val Set"
   ]
  },
  {
   "cell_type": "code",
   "execution_count": 29,
   "metadata": {},
   "outputs": [
    {
     "name": "stdout",
     "output_type": "stream",
     "text": [
      "[1.e-10 1.e-08 1.e-06 1.e-04 1.e-02 1.e+00 1.e+02 1.e+04 1.e+06]\n"
     ]
    }
   ],
   "source": [
    "my_degree = 4\n",
    "alpha_list = np.asarray([1.e-10, 1.e-08, 1.e-06, 1.e-04, 1.e-02, 1.e+00, 1.e+02, 1.e+04, 1.e+06])\n",
    "print(alpha_list)\n"
   ]
  },
  {
   "cell_type": "code",
   "execution_count": 30,
   "metadata": {},
   "outputs": [],
   "source": [
    "fv2_err_tr_list = []\n",
    "fv2_err_va_list = []\n",
    "fv2_pipeline_list = []\n",
    "\n",
    "for alpha in alpha_list:\n",
    "\n",
    "    pipeline = make_poly_ridge_regr_pipeline(my_degree, alpha)\n",
    "    \n",
    "    pipeline.fit(x_tr_MF, y_tr_M)\n",
    "\n",
    "    yhat_tr_M = sanitize(pipeline.predict(x_tr_MF))\n",
    "    yhat_va_N = sanitize(pipeline.predict(x_va_NF))\n",
    "    assert np.all(yhat_va_N >= 0.0)\n",
    "    assert np.all(yhat_va_N <= Y_MAX)\n",
    "    \n",
    "    err_tr = calc_root_mean_squared_error(y_tr_M, yhat_tr_M)\n",
    "    err_va = calc_root_mean_squared_error(y_va_N, yhat_va_N)\n",
    "\n",
    "    fv2_err_tr_list.append(err_tr)\n",
    "    fv2_err_va_list.append(err_va)\n",
    "\n",
    "    fv2_pipeline_list.append(pipeline)\n"
   ]
  },
  {
   "cell_type": "markdown",
   "metadata": {},
   "source": [
    "### Figure 2 in report\n",
    "\n",
    "Make a line plot of mean-squared error on y-axis vs. alpha on x-axis."
   ]
  },
  {
   "cell_type": "code",
   "execution_count": 31,
   "metadata": {},
   "outputs": [
    {
     "data": {
      "image/png": "[encoded data removed]",
      "text/plain": [
       "<Figure size 640x480 with 1 Axes>"
      ]
     },
     "metadata": {},
     "output_type": "display_data"
    }
   ],
   "source": [
    "plot_train_and_valid_error_vs_hyper(\n",
    "    alpha_list, fv2_err_tr_list, fv2_err_va_list,\n",
    "    xlabel='alpha (L2 penalty)', leg_loc='upper left');\n",
    "plt.gca().set_ylim([0, 10]);\n",
    "plt.gca().set_xscale('log');\n",
    "plt.title('Error vs. Alpha');\n"
   ]
  },
  {
   "cell_type": "markdown",
   "metadata": {},
   "source": [
    "### Implementation Step 2B\n",
    "\n",
    "Select the model hyperparameters that *minimize* your fixed validation set error. Using your already-trained model with these best hyperparameters, compute error on the *test* set. \n"
   ]
  },
  {
   "cell_type": "code",
   "execution_count": 32,
   "metadata": {},
   "outputs": [
    {
     "name": "stdout",
     "output_type": "stream",
     "text": [
      "Selected Parameters:\n",
      "alpha=0.01\n",
      "Fixed validation set estimate of heldout error:\n",
      "err_va=3.9314\n",
      "Error on the test-set:\n",
      "err_te=3.8777\n"
     ]
    }
   ],
   "source": [
    "print(\"Selected Parameters:\")\n",
    "best_pipeline_idx = np.argmin(fv2_err_va_list)\n",
    "print(f\"alpha={alpha_list[best_pipeline_idx]}\")\n",
    "print(\"Fixed validation set estimate of heldout error:\")\n",
    "print(f\"err_va={fv2_err_va_list[best_pipeline_idx]:.4f}\")\n",
    "print(\"Error on the test-set:\")\n",
    "\n",
    "yhat_te_P = fv2_pipeline_list[best_pipeline_idx].predict(x_te_PF)\n",
    "err_te = calc_root_mean_squared_error(y_te_P, yhat_te_P)\n",
    "\n",
    "print(f\"err_te={err_te:.4f}\")\n"
   ]
  },
  {
   "cell_type": "code",
   "execution_count": 33,
   "metadata": {},
   "outputs": [],
   "source": [
    "score2 = err_te\n"
   ]
  },
  {
   "cell_type": "markdown",
   "metadata": {},
   "source": [
    "### Short Answer 2a in Report\n",
    "\n",
    "Inspect the learned weight parameters of your chosen degree-4 model.\n",
    "What do you notice about the relative magnitudes compared to 1c above?"
   ]
  },
  {
   "cell_type": "code",
   "execution_count": 34,
   "metadata": {},
   "outputs": [
    {
     "name": "stdout",
     "output_type": "stream",
     "text": [
      " -39.88 : x0\n",
      "   1.56 : x1\n",
      "  14.71 : x2\n",
      " -13.32 : x3\n",
      "  -6.53 : x0^2\n",
      "  -5.93 : x0 x1\n",
      "  21.96 : x0 x2\n",
      "  24.36 : x0 x3\n",
      " -22.82 : x1^2\n",
      "   2.39 : x1 x2\n",
      "  -2.18 : x1 x3\n",
      " -19.42 : x2^2\n",
      " -26.81 : x2 x3\n",
      "   3.47 : x3^2\n",
      "   9.93 : x0^3\n",
      "   5.41 : x0^2 x1\n",
      "   9.37 : x0^2 x2\n",
      "  14.07 : x0^2 x3\n",
      "   8.22 : x0 x1^2\n",
      "   7.41 : x0 x1 x2\n",
      "  12.85 : x0 x1 x3\n",
      "   0.12 : x0 x2^2\n",
      "  -1.49 : x0 x2 x3\n",
      "   0.97 : x0 x3^2\n",
      "  -5.93 : x1^3\n",
      "  -2.12 : x1^2 x2\n",
      "  -2.79 : x1^2 x3\n",
      "   0.19 : x1 x2^2\n",
      "  -2.80 : x1 x2 x3\n",
      "  -0.49 : x1 x3^2\n",
      "  -4.76 : x2^3\n",
      "  -3.17 : x2^2 x3\n",
      "   3.10 : x2 x3^2\n",
      "   5.33 : x3^3\n",
      "   5.15 : x0^4\n",
      "  -4.71 : x0^3 x1\n",
      "  -1.87 : x0^3 x2\n",
      "   5.64 : x0^3 x3\n",
      "  -2.97 : x0^2 x1^2\n",
      "  -5.04 : x0^2 x1 x2\n",
      "   1.79 : x0^2 x1 x3\n",
      " -10.96 : x0^2 x2^2\n",
      "  -4.93 : x0^2 x2 x3\n",
      "  -3.79 : x0^2 x3^2\n",
      "   4.44 : x0 x1^3\n",
      "   2.40 : x0 x1^2 x2\n",
      "   5.23 : x0 x1^2 x3\n",
      "  -4.37 : x0 x1 x2^2\n",
      "  -0.25 : x0 x1 x2 x3\n",
      "  -1.68 : x0 x1 x3^2\n",
      " -16.61 : x0 x2^3\n",
      " -11.02 : x0 x2^2 x3\n",
      " -10.19 : x0 x2 x3^2\n",
      " -13.04 : x0 x3^3\n",
      "   2.39 : x1^4\n",
      "   3.05 : x1^3 x2\n",
      "   0.24 : x1^3 x3\n",
      "   2.79 : x1^2 x2^2\n",
      "   1.78 : x1^2 x2 x3\n",
      "  -2.91 : x1^2 x3^2\n",
      "   4.22 : x1 x2^3\n",
      "   6.13 : x1 x2^2 x3\n",
      "   2.56 : x1 x2 x3^2\n",
      "  -4.81 : x1 x3^3\n",
      "  12.25 : x2^4\n",
      "  17.03 : x2^3 x3\n",
      "  14.30 : x2^2 x3^2\n",
      "   6.02 : x2 x3^3\n",
      "  -4.64 : x3^4\n",
      "where \n",
      "x0 = horsepower\n",
      "x1 = weight\n",
      "x2 = cylinders\n",
      "x3 = displacement\n"
     ]
    }
   ],
   "source": [
    "pretty_print_learned_weights(fv2_pipeline_list[best_pipeline_idx], xcolnames_F)\n"
   ]
  },
  {
   "cell_type": "markdown",
   "metadata": {},
   "source": [
    "# Data preprocessing for Problem 3"
   ]
  },
  {
   "cell_type": "markdown",
   "metadata": {},
   "source": [
    "For this problem, you'll again use the provided training set and validation sets. However, you'll *merge* these into a large \"development\" set that contains 292 examples total."
   ]
  },
  {
   "cell_type": "code",
   "execution_count": 35,
   "metadata": {},
   "outputs": [
    {
     "name": "stdout",
     "output_type": "stream",
     "text": [
      "(292, 4)\n"
     ]
    }
   ],
   "source": [
    "x_trva_LF = np.vstack([x_tr_MF, x_va_NF])\n",
    "y_trva_L = np.hstack([y_tr_M, y_va_N])\n",
    "\n",
    "print(x_trva_LF.shape)\n"
   ]
  },
  {
   "cell_type": "markdown",
   "metadata": {},
   "source": [
    "# Problem 3: Cross Validation for Polynomial Feature Regression"
   ]
  },
  {
   "cell_type": "markdown",
   "metadata": {},
   "source": [
    "### Implementation step 3A\n",
    "\n",
    "For each possible `alpha` value as well as each possible polynomial degree, train and evaluate a `Ridge` regression model across the entire train+validation set using 10-fold cross validation. Use the CV methods you implemented in `cross_validation.py`. For each possible hyperparameter (alpha value and degree value), your 10-fold CV procedure will give you an estimate of the training error and heldout validation error (averaged across all folds). \n"
   ]
  },
  {
   "cell_type": "code",
   "execution_count": 45,
   "metadata": {},
   "outputs": [],
   "source": [
    "K = 10 # num folds of CV\n",
    "degree_list = [1, 2, 3, 4, 5, 6, 7]\n",
    "alpha_list = np.logspace(-10, 6, 17)\n",
    "\n",
    "ridge_param_list = []\n",
    "for alpha in alpha_list:\n",
    "    for degree in degree_list:\n",
    "        ridge_param_list.append(dict(degree=degree, alpha=alpha))\n",
    "        \n",
    "cv_train_err_list = []\n",
    "cv_valid_err_list = []\n",
    "for param in ridge_param_list:\n",
    "    pipeline = make_poly_ridge_regr_pipeline(**param)\n",
    "    tr_error_K, valid_error_K = train_models_and_calc_scores_for_n_fold_cv(pipeline, x_trva_LF, y_trva_L, K, SEED)\n",
    "\n",
    "    err_tr = np.average(tr_error_K)\n",
    "    err_va = np.average(valid_error_K)\n",
    "    \n",
    "    cv_train_err_list.append(err_tr)\n",
    "    cv_valid_err_list.append(err_va)\n"
   ]
  },
  {
   "cell_type": "markdown",
   "metadata": {},
   "source": [
    "### Implementation step 3B\n",
    "\n",
    "Select the model hyperparameters that *minimize* your estimated cross-validation error. Using these best hyperparameters, retrain the model using the full development set (concatenating the predefined training and validation sets). Then compute that (retrained) model's error on the test set.\n",
    "\n",
    "Save this test set error value for later."
   ]
  },
  {
   "cell_type": "code",
   "execution_count": 50,
   "metadata": {},
   "outputs": [],
   "source": [
    "best_model_idx = np.argmin(cv_valid_err_list)\n",
    "pipeline = make_poly_ridge_regr_pipeline(**ridge_param_list[best_model_idx])\n",
    "pipeline.fit(x_trva_LF, y_trva_L)\n",
    "yhat_te_P = pipeline.predict(x_te_PF)\n",
    "score3 = calc_root_mean_squared_error(y_te_P, yhat_te_P)\n"
   ]
  },
  {
   "cell_type": "code",
   "execution_count": 51,
   "metadata": {},
   "outputs": [
    {
     "name": "stdout",
     "output_type": "stream",
     "text": [
      "Selected Parameters:\n",
      "{'degree': 7, 'alpha': 0.1}\n",
      "10-fold CV estimate of heldout error:\n",
      "3.859947335404448\n",
      "Error on the test-set:\n",
      "3.816826761080231\n"
     ]
    }
   ],
   "source": [
    "print(\"Selected Parameters:\")\n",
    "print(ridge_param_list[best_model_idx])\n",
    "print(\"10-fold CV estimate of heldout error:\")\n",
    "print(cv_valid_err_list[best_model_idx])\n",
    "print(\"Error on the test-set:\")\n",
    "print(score3)\n"
   ]
  },
  {
   "cell_type": "markdown",
   "metadata": {},
   "source": [
    "## Table 3 : Comparing pipelines on test set"
   ]
  },
  {
   "cell_type": "code",
   "execution_count": 71,
   "metadata": {},
   "outputs": [
    {
     "name": "stdout",
     "output_type": "stream",
     "text": [
      "Dumb Baseline error : 7.104\n",
      "Linear_reg error    : 3.992\n",
      "Set Poly_reg error  : 3.878\n",
      "CV Poly_reg error   : 3.817\n"
     ]
    }
   ],
   "source": [
    "class DumbRegressor:\n",
    "    def __init__(self):\n",
    "        self.y_mean = np.infty\n",
    "\n",
    "    def fit(self, _x_NF, y_N):\n",
    "        self.y_mean = np.mean(y_N)\n",
    "    def predict(self, x_NF):\n",
    "        N, F = x_NF.shape\n",
    "        return np.full(N, self.y_mean)\n",
    "\n",
    "dr = DumbRegressor()\n",
    "dr.fit(x_tr_MF, y_tr_M)\n",
    "yhat_te_P = dr.predict(x_te_PF)\n",
    "dumb_score = calc_root_mean_squared_error(y_te_P, yhat_te_P)\n",
    "\n",
    "print(f\"Dumb Baseline error : {dumb_score:.3f}\")\n",
    "print(f\"Linear_reg error    : {score:.3f}\")\n",
    "print(f\"Set Poly_reg error  : {score2:.3f}\")\n",
    "print(f\"CV Poly_reg error   : {score3:.3f}\")\n"
   ]
  }
 ],
 "metadata": {
  "kernelspec": {
   "display_name": "python3",
   "language": "python",
   "name": "python3"
  },
  "language_info": {
   "codemirror_mode": {
    "name": "ipython",
    "version": 3
   },
   "file_extension": ".py",
   "mimetype": "text/x-python",
   "name": "python",
   "nbconvert_exporter": "python",
   "pygments_lexer": "ipython3",
   "version": "3.10.12"
  }
 },
 "nbformat": 4,
 "nbformat_minor": 4
}
